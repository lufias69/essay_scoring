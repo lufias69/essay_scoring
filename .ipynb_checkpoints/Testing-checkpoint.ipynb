{
 "cells": [
  {
   "cell_type": "code",
   "execution_count": 1,
   "metadata": {},
   "outputs": [],
   "source": [
    "from ES import scoring as sc\n",
    "import pandas as pd"
   ]
  },
  {
   "cell_type": "code",
   "execution_count": 3,
   "metadata": {},
   "outputs": [
    {
     "name": "stdout",
     "output_type": "stream",
     "text": [
      "[1.0, 'sangat mirip']\n"
     ]
    }
   ],
   "source": [
    "kunci_jawaban = [\"telepon 02173811111 kunjungi website buanawisata.com\",\"02173811111 buanaawisata\"]\n",
    "\n",
    "jawaban = \"telepon0217381 1111 atau kunjungi website kami buanawisata.com untuk informasi paket dan harga\"\n",
    "\n",
    "print(sc.essay_dice_similarity(kunci_jawaban, jawaban))"
   ]
  },
  {
   "cell_type": "code",
   "execution_count": 5,
   "metadata": {},
   "outputs": [
    {
     "name": "stdout",
     "output_type": "stream",
     "text": [
      " skor       : 95 \n",
      " qualifikasi: benar \n",
      " similarity : 1.0 \n",
      " status     : sangat mirip\n"
     ]
    }
   ],
   "source": [
    "jawaban = \"telepon0217381 1111 sekarang juga untuk informasi lebih lanjut kunjungi website kami di buanawisata.com untuk informasi paket dan harga\"\n",
    "file_name = \"kunci_jawaban_1\"\n",
    "dir_ = \"kunci_jawaban\"\n",
    "data = pd.read_excel(dir_+\"/\"+file_name+\".xlsx\")\n",
    "data = sc.seleksi_kunci_jawaban(data)\n",
    "kuncijawaban_list = data[\"kunci_jawaban\"]\n",
    "skor_list = data[\"skor\"]\n",
    "keterangan = data[\"keterangan\"]\n",
    "\n",
    "print(\"cosine\")\n",
    "hasil = sc.scoring_cosine(jawaban,kuncijawaban_list,skor_list,keterangan)\n",
    "#[skor, ket, similarity, tr, sorted_]\n",
    "#    0     1         2    3       4\n",
    "print(\" skor       :\",hasil[0], \"\\n qualifikasi:\",hasil[1], \"\\n similarity :\",hasil[2], \"\\n status     :\",hasil[3])\n",
    "\n",
    "# hasil[4]\n",
    "\n",
    "print(\"dice\")\n",
    "hasil = sc.scoring_dice(jawaban,kuncijawaban_list,skor_list,keterangan)\n",
    "#[skor, ket, similarity, tr, sorted_]\n",
    "#    0     1         2    3       4\n",
    "print(\" skor       :\",hasil[0], \"\\n qualifikasi:\",hasil[1], \"\\n similarity :\",hasil[2], \"\\n status     :\",hasil[3])\n",
    "\n",
    "print(\"jaccard\")\n",
    "hasil = sc.scoring_jaccard(jawaban,kuncijawaban_list,skor_list,keterangan)\n",
    "#[skor, ket, similarity, tr, sorted_]\n",
    "#    0     1         2    3       4\n",
    "print(\" skor       :\",hasil[0], \"\\n qualifikasi:\",hasil[1], \"\\n similarity :\",hasil[2], \"\\n status     :\",hasil[3])"
   ]
  },
  {
   "cell_type": "code",
   "execution_count": 6,
   "metadata": {},
   "outputs": [],
   "source": [
    "# file_name = \"kunci_jawaban_1\"\n",
    "# dir_ = \"kunci_jawaban\"\n",
    "# data = pd.read_excel(dir_+\"/\"+file_name+\".xlsx\")"
   ]
  },
  {
   "cell_type": "code",
   "execution_count": 7,
   "metadata": {},
   "outputs": [],
   "source": [
    "# len(sc.seleksi_kunci_jawaban(data)[\"kunci_jawaban\"])"
   ]
  }
 ],
 "metadata": {
  "kernelspec": {
   "display_name": "Python 3",
   "language": "python",
   "name": "python3"
  },
  "language_info": {
   "codemirror_mode": {
    "name": "ipython",
    "version": 3
   },
   "file_extension": ".py",
   "mimetype": "text/x-python",
   "name": "python",
   "nbconvert_exporter": "python",
   "pygments_lexer": "ipython3",
   "version": "3.7.3"
  }
 },
 "nbformat": 4,
 "nbformat_minor": 2
}
