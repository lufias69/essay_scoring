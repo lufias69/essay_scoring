{
 "cells": [
  {
   "cell_type": "code",
   "execution_count": 10,
   "metadata": {},
   "outputs": [],
   "source": [
    "from ES import scoring as sc\n",
    "import pandas as pd\n",
    "F = False\n",
    "T =True"
   ]
  },
  {
   "cell_type": "code",
   "execution_count": 7,
   "metadata": {},
   "outputs": [
    {
     "name": "stdout",
     "output_type": "stream",
     "text": [
      "[0.9070280739, 'sangat mirip']\n"
     ]
    }
   ],
   "source": [
    "from ES import scoring as sc\n",
    "kunci_jawaban = [\"telepon 02173811111 kunjungi website buanawisata.com\",\"02173811111 buanaawisata\"]\n",
    "\n",
    "# jawaban = \"telepon 02173811111 kunjungi website buanawisata.com\"\n",
    "jawaban = \"telepon0217381 1111 atau kunjungi website kami buanawisata.com untuk informasi paket dan harga\"\n",
    "\n",
    "print(sc.essay_jaccard_similarity(kunci_jawaban, jawaban, fitur=T, char = T))"
   ]
  },
  {
   "cell_type": "code",
   "execution_count": 6,
   "metadata": {},
   "outputs": [
    {
     "data": {
      "text/plain": [
       "[0.9252695110643357, 'sangat mirip']"
      ]
     },
     "execution_count": 6,
     "metadata": {},
     "output_type": "execute_result"
    }
   ],
   "source": [
    "sc.cosine_huruf(kunci_jawaban, jawaban)"
   ]
  },
  {
   "cell_type": "code",
   "execution_count": 13,
   "metadata": {},
   "outputs": [
    {
     "name": "stdout",
     "output_type": "stream",
     "text": [
      "cosine\n",
      " skor       : 97 \n",
      " qualifikasi: benar \n",
      " similarity : 0.993 \n",
      " status     : sangat mirip\n",
      "\n",
      "dice\n",
      " skor       : 97 \n",
      " qualifikasi: benar \n",
      " similarity : 0.993 \n",
      " status     : sangat mirip\n",
      "\n",
      "jaccard\n",
      " skor       : 97 \n",
      " qualifikasi: benar \n",
      " similarity : 0.986 \n",
      " status     : sangat mirip\n"
     ]
    }
   ],
   "source": [
    "cc = F\n",
    "ff = F\n",
    "\n",
    "jawaban = \"telepon0217381 1111 sekarang juga untuk informasi lebih lanjut kunjungi website kami buanaawisata di untuk informasi paket dan harga\"\n",
    "file_name = \"kunci_jawaban_1\"\n",
    "dir_ = \"kunci_jawaban\"\n",
    "data = pd.read_excel(dir_+\"/\"+file_name+\".xlsx\")\n",
    "data = sc.seleksi_kunci_jawaban(data)\n",
    "kuncijawaban_list = data[\"kunci_jawaban\"]\n",
    "skor_list = data[\"skor\"]\n",
    "keterangan = data[\"keterangan\"]\n",
    "# sc.essay_jaccard_similarity(jawaban, kuncijawaban_list, skor_list, keterangan, char=False, fitur=False)\n",
    "print(\"cosine\")\n",
    "hasil = sc.scoring_cosine(jawaban, kuncijawaban_list, skor_list, keterangan, char=cc, fitur=ff)\n",
    "#[skor, ket, similarity, tr, sorted_]\n",
    "#    0     1         2    3       4\n",
    "print(\" skor       :\",hasil[0], \"\\n qualifikasi:\",hasil[1], \"\\n similarity :\",hasil[2], \"\\n status     :\",hasil[3])\n",
    "print(\"\")\n",
    "print(\"dice\")\n",
    "hasil = sc.scoring_dice(jawaban, kuncijawaban_list, skor_list, keterangan, char=cc, fitur=ff)\n",
    "print(\" skor       :\",hasil[0], \"\\n qualifikasi:\",hasil[1], \"\\n similarity :\",hasil[2], \"\\n status     :\",hasil[3])\n",
    "print(\"\")\n",
    "print(\"jaccard\")\n",
    "hasil = sc.scoring_jaccard(jawaban, kuncijawaban_list, skor_list, keterangan, char=cc, fitur=cc)\n",
    "print(\" skor       :\",hasil[0], \"\\n qualifikasi:\",hasil[1], \"\\n similarity :\",hasil[2], \"\\n status     :\",hasil[3])\n",
    "# hasil[4]"
   ]
  },
  {
   "cell_type": "code",
   "execution_count": 6,
   "metadata": {},
   "outputs": [],
   "source": [
    "# file_name = \"kunci_jawaban_1\"\n",
    "# dir_ = \"kunci_jawaban\"\n",
    "# data = pd.read_excel(dir_+\"/\"+file_name+\".xlsx\")"
   ]
  },
  {
   "cell_type": "code",
   "execution_count": 7,
   "metadata": {},
   "outputs": [],
   "source": [
    "# len(sc.seleksi_kunci_jawaban(data)[\"kunci_jawaban\"])"
   ]
  },
  {
   "cell_type": "code",
   "execution_count": null,
   "metadata": {},
   "outputs": [],
   "source": []
  },
  {
   "cell_type": "code",
   "execution_count": null,
   "metadata": {},
   "outputs": [],
   "source": []
  },
  {
   "cell_type": "code",
   "execution_count": null,
   "metadata": {},
   "outputs": [],
   "source": []
  },
  {
   "cell_type": "code",
   "execution_count": null,
   "metadata": {},
   "outputs": [],
   "source": []
  },
  {
   "cell_type": "code",
   "execution_count": null,
   "metadata": {},
   "outputs": [],
   "source": []
  },
  {
   "cell_type": "code",
   "execution_count": null,
   "metadata": {},
   "outputs": [],
   "source": []
  },
  {
   "cell_type": "code",
   "execution_count": null,
   "metadata": {},
   "outputs": [],
   "source": []
  }
 ],
 "metadata": {
  "kernelspec": {
   "display_name": "Python 3",
   "language": "python",
   "name": "python3"
  },
  "language_info": {
   "codemirror_mode": {
    "name": "ipython",
    "version": 3
   },
   "file_extension": ".py",
   "mimetype": "text/x-python",
   "name": "python",
   "nbconvert_exporter": "python",
   "pygments_lexer": "ipython3",
   "version": "3.7.3"
  }
 },
 "nbformat": 4,
 "nbformat_minor": 2
}
