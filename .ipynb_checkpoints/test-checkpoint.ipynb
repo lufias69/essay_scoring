{
 "cells": [
  {
   "cell_type": "code",
   "execution_count": 1,
   "metadata": {},
   "outputs": [
    {
     "name": "stdout",
     "output_type": "stream",
     "text": [
      "ok\n"
     ]
    }
   ],
   "source": [
    "from ES import scoring as sc\n",
    "import pandas as pd"
   ]
  },
  {
   "cell_type": "code",
   "execution_count": 2,
   "metadata": {},
   "outputs": [
    {
     "name": "stdout",
     "output_type": "stream",
     "text": [
      "100\n"
     ]
    },
    {
     "data": {
      "text/html": [
       "<div>\n",
       "<style scoped>\n",
       "    .dataframe tbody tr th:only-of-type {\n",
       "        vertical-align: middle;\n",
       "    }\n",
       "\n",
       "    .dataframe tbody tr th {\n",
       "        vertical-align: top;\n",
       "    }\n",
       "\n",
       "    .dataframe thead th {\n",
       "        text-align: right;\n",
       "    }\n",
       "</style>\n",
       "<table border=\"1\" class=\"dataframe\">\n",
       "  <thead>\n",
       "    <tr style=\"text-align: right;\">\n",
       "      <th></th>\n",
       "      <th>Column1</th>\n",
       "      <th>jawaban</th>\n",
       "      <th>score</th>\n",
       "      <th>buat label</th>\n",
       "      <th>Column3</th>\n",
       "      <th>Column4</th>\n",
       "    </tr>\n",
       "  </thead>\n",
       "  <tbody>\n",
       "    <tr>\n",
       "      <th>0</th>\n",
       "      <td>5212</td>\n",
       "      <td>ayo kunjungi machu picchu yang megahsejuk dan ...</td>\n",
       "      <td>0</td>\n",
       "      <td>1.0</td>\n",
       "      <td>100</td>\n",
       "      <td>tidak mirip</td>\n",
       "    </tr>\n",
       "    <tr>\n",
       "      <th>1</th>\n",
       "      <td>1628</td>\n",
       "      <td>telepon0217381 1111 untuk mengetahui info lebi...</td>\n",
       "      <td>1</td>\n",
       "      <td>1.0</td>\n",
       "      <td>100</td>\n",
       "      <td>sangat mirip</td>\n",
       "    </tr>\n",
       "    <tr>\n",
       "      <th>2</th>\n",
       "      <td>1079</td>\n",
       "      <td>\"pendakian dua hari bersama buana wisata ke ma...</td>\n",
       "      <td>1</td>\n",
       "      <td>1.0</td>\n",
       "      <td>100</td>\n",
       "      <td>tidak mirip</td>\n",
       "    </tr>\n",
       "    <tr>\n",
       "      <th>3</th>\n",
       "      <td>3827</td>\n",
       "      <td>anda dapat menelepon 021 7381 1111 sekarang ju...</td>\n",
       "      <td>1</td>\n",
       "      <td>1.0</td>\n",
       "      <td>100</td>\n",
       "      <td>sangat mirip</td>\n",
       "    </tr>\n",
       "    <tr>\n",
       "      <th>4</th>\n",
       "      <td>1388</td>\n",
       "      <td>arsitektur yang menabjub kan teras teras yang ...</td>\n",
       "      <td>0</td>\n",
       "      <td>1.0</td>\n",
       "      <td>100</td>\n",
       "      <td>sangat tidak mirip</td>\n",
       "    </tr>\n",
       "  </tbody>\n",
       "</table>\n",
       "</div>"
      ],
      "text/plain": [
       "   Column1                                            jawaban  score  \\\n",
       "0     5212  ayo kunjungi machu picchu yang megahsejuk dan ...      0   \n",
       "1     1628  telepon0217381 1111 untuk mengetahui info lebi...      1   \n",
       "2     1079  \"pendakian dua hari bersama buana wisata ke ma...      1   \n",
       "3     3827  anda dapat menelepon 021 7381 1111 sekarang ju...      1   \n",
       "4     1388  arsitektur yang menabjub kan teras teras yang ...      0   \n",
       "\n",
       "   buat label  Column3             Column4  \n",
       "0         1.0      100         tidak mirip  \n",
       "1         1.0      100        sangat mirip  \n",
       "2         1.0      100         tidak mirip  \n",
       "3         1.0      100        sangat mirip  \n",
       "4         1.0      100  sangat tidak mirip  "
      ]
     },
     "execution_count": 2,
     "metadata": {},
     "output_type": "execute_result"
    }
   ],
   "source": [
    "#Jawaban\n",
    "dir_ = 'data'\n",
    "file_name = 'jawaban'\n",
    "data = pd.read_excel(dir_+\"/\"+file_name+\".xlsx\")\n",
    "jawaban = data[:100][\"jawaban\"].tolist()\n",
    "print(len(jawaban))\n",
    "data.head()"
   ]
  },
  {
   "cell_type": "code",
   "execution_count": null,
   "metadata": {},
   "outputs": [],
   "source": [
    "kunci_jawaban = [\"telepon 02173811111 website buanwisata.com\",\n",
    "                 \"02173811111 buanawiata.com\",\n",
    "                ]\n",
    "skor = [1,1]"
   ]
  }
 ],
 "metadata": {
  "kernelspec": {
   "display_name": "Python 3",
   "language": "python",
   "name": "python3"
  },
  "language_info": {
   "codemirror_mode": {
    "name": "ipython",
    "version": 3
   },
   "file_extension": ".py",
   "mimetype": "text/x-python",
   "name": "python",
   "nbconvert_exporter": "python",
   "pygments_lexer": "ipython3",
   "version": "3.7.3"
  }
 },
 "nbformat": 4,
 "nbformat_minor": 2
}
