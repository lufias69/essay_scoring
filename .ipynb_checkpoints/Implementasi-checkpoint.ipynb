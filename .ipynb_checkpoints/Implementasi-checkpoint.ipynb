{
 "cells": [
  {
   "cell_type": "code",
   "execution_count": 1,
   "metadata": {},
   "outputs": [],
   "source": [
    "from ES import scoring as sc\n",
    "import pandas as pd"
   ]
  },
  {
   "cell_type": "markdown",
   "metadata": {},
   "source": [
    "# Load Jawaban"
   ]
  },
  {
   "cell_type": "code",
   "execution_count": 2,
   "metadata": {},
   "outputs": [
    {
     "name": "stdout",
     "output_type": "stream",
     "text": [
      "100\n"
     ]
    },
    {
     "data": {
      "text/html": [
       "<div>\n",
       "<style scoped>\n",
       "    .dataframe tbody tr th:only-of-type {\n",
       "        vertical-align: middle;\n",
       "    }\n",
       "\n",
       "    .dataframe tbody tr th {\n",
       "        vertical-align: top;\n",
       "    }\n",
       "\n",
       "    .dataframe thead th {\n",
       "        text-align: right;\n",
       "    }\n",
       "</style>\n",
       "<table border=\"1\" class=\"dataframe\">\n",
       "  <thead>\n",
       "    <tr style=\"text-align: right;\">\n",
       "      <th></th>\n",
       "      <th>Column1</th>\n",
       "      <th>jawaban</th>\n",
       "      <th>score</th>\n",
       "      <th>buat label</th>\n",
       "      <th>Column3</th>\n",
       "      <th>Column4</th>\n",
       "    </tr>\n",
       "  </thead>\n",
       "  <tbody>\n",
       "    <tr>\n",
       "      <th>0</th>\n",
       "      <td>5212</td>\n",
       "      <td>ayo kunjungi machu picchu yang megahsejuk dan ...</td>\n",
       "      <td>0</td>\n",
       "      <td>1.0</td>\n",
       "      <td>100</td>\n",
       "      <td>tidak mirip</td>\n",
       "    </tr>\n",
       "    <tr>\n",
       "      <th>1</th>\n",
       "      <td>1628</td>\n",
       "      <td>telepon0217381 1111 untuk mengetahui info lebi...</td>\n",
       "      <td>1</td>\n",
       "      <td>1.0</td>\n",
       "      <td>100</td>\n",
       "      <td>sangat mirip</td>\n",
       "    </tr>\n",
       "    <tr>\n",
       "      <th>2</th>\n",
       "      <td>1079</td>\n",
       "      <td>\"pendakian dua hari bersama buana wisata ke ma...</td>\n",
       "      <td>1</td>\n",
       "      <td>1.0</td>\n",
       "      <td>100</td>\n",
       "      <td>tidak mirip</td>\n",
       "    </tr>\n",
       "    <tr>\n",
       "      <th>3</th>\n",
       "      <td>3827</td>\n",
       "      <td>anda dapat menelepon 021 7381 1111 sekarang ju...</td>\n",
       "      <td>1</td>\n",
       "      <td>1.0</td>\n",
       "      <td>100</td>\n",
       "      <td>sangat mirip</td>\n",
       "    </tr>\n",
       "    <tr>\n",
       "      <th>4</th>\n",
       "      <td>1388</td>\n",
       "      <td>arsitektur yang menabjub kan teras teras yang ...</td>\n",
       "      <td>0</td>\n",
       "      <td>1.0</td>\n",
       "      <td>100</td>\n",
       "      <td>sangat tidak mirip</td>\n",
       "    </tr>\n",
       "  </tbody>\n",
       "</table>\n",
       "</div>"
      ],
      "text/plain": [
       "   Column1                                            jawaban  score  \\\n",
       "0     5212  ayo kunjungi machu picchu yang megahsejuk dan ...      0   \n",
       "1     1628  telepon0217381 1111 untuk mengetahui info lebi...      1   \n",
       "2     1079  \"pendakian dua hari bersama buana wisata ke ma...      1   \n",
       "3     3827  anda dapat menelepon 021 7381 1111 sekarang ju...      1   \n",
       "4     1388  arsitektur yang menabjub kan teras teras yang ...      0   \n",
       "\n",
       "   buat label  Column3             Column4  \n",
       "0         1.0      100         tidak mirip  \n",
       "1         1.0      100        sangat mirip  \n",
       "2         1.0      100         tidak mirip  \n",
       "3         1.0      100        sangat mirip  \n",
       "4         1.0      100  sangat tidak mirip  "
      ]
     },
     "execution_count": 2,
     "metadata": {},
     "output_type": "execute_result"
    }
   ],
   "source": [
    "#Jawaban\n",
    "dir_ = 'data'\n",
    "file_name = 'jawaban'\n",
    "data = pd.read_excel(dir_+\"/\"+file_name+\".xlsx\")\n",
    "jawaban = data[:100][\"jawaban\"].tolist()\n",
    "print(len(jawaban))\n",
    "data.head()"
   ]
  },
  {
   "cell_type": "markdown",
   "metadata": {},
   "source": [
    "# Load Kunci Jawaban"
   ]
  },
  {
   "cell_type": "code",
   "execution_count": 3,
   "metadata": {},
   "outputs": [
    {
     "data": {
      "text/html": [
       "<div>\n",
       "<style scoped>\n",
       "    .dataframe tbody tr th:only-of-type {\n",
       "        vertical-align: middle;\n",
       "    }\n",
       "\n",
       "    .dataframe tbody tr th {\n",
       "        vertical-align: top;\n",
       "    }\n",
       "\n",
       "    .dataframe thead th {\n",
       "        text-align: right;\n",
       "    }\n",
       "</style>\n",
       "<table border=\"1\" class=\"dataframe\">\n",
       "  <thead>\n",
       "    <tr style=\"text-align: right;\">\n",
       "      <th></th>\n",
       "      <th>kunci_jawaban</th>\n",
       "      <th>skor</th>\n",
       "      <th>keterangan</th>\n",
       "    </tr>\n",
       "  </thead>\n",
       "  <tbody>\n",
       "    <tr>\n",
       "      <th>0</th>\n",
       "      <td>ayo kunjungi machu picchu yang megahsejuk dan ...</td>\n",
       "      <td>20</td>\n",
       "      <td>salah</td>\n",
       "    </tr>\n",
       "    <tr>\n",
       "      <th>1</th>\n",
       "      <td>ayo kunjungi machu picchu yang megahsejuk dan ...</td>\n",
       "      <td>20</td>\n",
       "      <td>salah</td>\n",
       "    </tr>\n",
       "    <tr>\n",
       "      <th>2</th>\n",
       "      <td>arsitektur yang menabjub kan teras teras yang ...</td>\n",
       "      <td>20</td>\n",
       "      <td>salah</td>\n",
       "    </tr>\n",
       "    <tr>\n",
       "      <th>3</th>\n",
       "      <td>berbagai perjalanan wisata yang akan membantu ...</td>\n",
       "      <td>20</td>\n",
       "      <td>salah</td>\n",
       "    </tr>\n",
       "    <tr>\n",
       "      <th>4</th>\n",
       "      <td>berkunjunglah selama beberapa hari atau tingga...</td>\n",
       "      <td>20</td>\n",
       "      <td>salah</td>\n",
       "    </tr>\n",
       "  </tbody>\n",
       "</table>\n",
       "</div>"
      ],
      "text/plain": [
       "                                       kunci_jawaban  skor keterangan\n",
       "0  ayo kunjungi machu picchu yang megahsejuk dan ...    20      salah\n",
       "1  ayo kunjungi machu picchu yang megahsejuk dan ...    20      salah\n",
       "2  arsitektur yang menabjub kan teras teras yang ...    20      salah\n",
       "3  berbagai perjalanan wisata yang akan membantu ...    20      salah\n",
       "4  berkunjunglah selama beberapa hari atau tingga...    20      salah"
      ]
     },
     "execution_count": 3,
     "metadata": {},
     "output_type": "execute_result"
    }
   ],
   "source": [
    "# jawaban = \"telepon0217381 1111 sekarang juga untuk informasi lebih lanjut kunjungi website kami di buanawisata.com untuk informasi paket dan harga\"\n",
    "file_name = \"kunci_jawaban_1\"\n",
    "dir_ = \"kunci_jawaban\"\n",
    "\n",
    "data = pd.read_excel(dir_+\"/\"+file_name+\".xlsx\")\n",
    "data = sc.seleksi_kunci_jawaban(data)\n",
    "kuncijawaban_list = data[\"kunci_jawaban\"]\n",
    "skor_list = data[\"skor\"]\n",
    "keterangan = data[\"keterangan\"]\n",
    "pd.DataFrame.from_dict(data).head()"
   ]
  },
  {
   "cell_type": "code",
   "execution_count": 29,
   "metadata": {},
   "outputs": [],
   "source": [
    "# print(\"cosine\")\n",
    "# hasil = sc.scoring_cosine(j,kuncijawaban_list,skor_list,keterangan)\n",
    "# #[skor, ket, similarity, tr, sorted_]\n",
    "# #    0     1         2    3       4\n",
    "# print(\" skor       :\",hasil[0], \"\\n qualifikasi:\",hasil[1], \"\\n similarity :\",hasil[2], \"\\n status     :\",hasil[3])"
   ]
  },
  {
   "cell_type": "markdown",
   "metadata": {},
   "source": [
    "# Implementasi"
   ]
  },
  {
   "cell_type": "code",
   "execution_count": 10,
   "metadata": {},
   "outputs": [
    {
     "name": "stdout",
     "output_type": "stream",
     "text": [
      "FF\n",
      "FF\n",
      "FF\n",
      "FF\n",
      "FF\n",
      "FF\n",
      "FF\n",
      "FF\n",
      "FF\n",
      "FF\n",
      "FF\n",
      "FF\n",
      "FF\n",
      "FF\n",
      "FF\n",
      "FF\n",
      "FF\n",
      "FF\n",
      "FF\n",
      "FF\n",
      "FF\n",
      "FF\n",
      "FF\n",
      "FF\n",
      "FF\n",
      "FF\n",
      "FF\n",
      "FF\n",
      "FF\n",
      "FF\n",
      "FF\n",
      "FF\n",
      "FF\n",
      "FF\n",
      "FF\n",
      "FF\n",
      "FF\n"
     ]
    },
    {
     "ename": "KeyboardInterrupt",
     "evalue": "",
     "output_type": "error",
     "traceback": [
      "\u001b[1;31m---------------------------------------------------------------------------\u001b[0m",
      "\u001b[1;31mKeyboardInterrupt\u001b[0m                         Traceback (most recent call last)",
      "\u001b[1;32m<ipython-input-10-07843d349c5c>\u001b[0m in \u001b[0;36m<module>\u001b[1;34m\u001b[0m\n\u001b[0;32m     28\u001b[0m     \u001b[0mcosine_cwm\u001b[0m\u001b[1;33m.\u001b[0m\u001b[0mappend\u001b[0m\u001b[1;33m(\u001b[0m\u001b[0msc\u001b[0m\u001b[1;33m.\u001b[0m\u001b[0mcek_mised\u001b[0m\u001b[1;33m(\u001b[0m\u001b[0mhasil\u001b[0m\u001b[1;33m[\u001b[0m\u001b[1;36m3\u001b[0m\u001b[1;33m]\u001b[0m\u001b[1;33m)\u001b[0m\u001b[1;33m)\u001b[0m\u001b[1;33m\u001b[0m\u001b[1;33m\u001b[0m\u001b[0m\n\u001b[0;32m     29\u001b[0m \u001b[1;33m\u001b[0m\u001b[0m\n\u001b[1;32m---> 30\u001b[1;33m     \u001b[0mhasil\u001b[0m \u001b[1;33m=\u001b[0m \u001b[0msc\u001b[0m\u001b[1;33m.\u001b[0m\u001b[0mscoring_dice\u001b[0m\u001b[1;33m(\u001b[0m\u001b[0mj\u001b[0m\u001b[1;33m,\u001b[0m\u001b[0mkuncijawaban_list\u001b[0m\u001b[1;33m,\u001b[0m\u001b[0mskor_list\u001b[0m\u001b[1;33m,\u001b[0m\u001b[0mketerangan\u001b[0m\u001b[1;33m,\u001b[0m \u001b[0mfitur\u001b[0m\u001b[1;33m=\u001b[0m\u001b[0mf\u001b[0m\u001b[1;33m,\u001b[0m \u001b[0mchar\u001b[0m \u001b[1;33m=\u001b[0m \u001b[0mc\u001b[0m\u001b[1;33m)\u001b[0m\u001b[1;33m\u001b[0m\u001b[1;33m\u001b[0m\u001b[0m\n\u001b[0m\u001b[0;32m     31\u001b[0m     \u001b[0mdice_skor\u001b[0m\u001b[1;33m.\u001b[0m\u001b[0mappend\u001b[0m\u001b[1;33m(\u001b[0m\u001b[0mhasil\u001b[0m\u001b[1;33m[\u001b[0m\u001b[1;36m0\u001b[0m\u001b[1;33m]\u001b[0m\u001b[1;33m)\u001b[0m\u001b[1;33m\u001b[0m\u001b[1;33m\u001b[0m\u001b[0m\n\u001b[0;32m     32\u001b[0m     \u001b[0mdice_qualifikasi\u001b[0m\u001b[1;33m.\u001b[0m\u001b[0mappend\u001b[0m\u001b[1;33m(\u001b[0m\u001b[0mhasil\u001b[0m\u001b[1;33m[\u001b[0m\u001b[1;36m1\u001b[0m\u001b[1;33m]\u001b[0m\u001b[1;33m)\u001b[0m\u001b[1;33m\u001b[0m\u001b[1;33m\u001b[0m\u001b[0m\n",
      "\u001b[1;32mD:\\github\\python\\essay_scoring\\ES\\scoring.py\u001b[0m in \u001b[0;36mscoring_dice\u001b[1;34m(jawaban, kuncijawaban_list, skor_list, keterangan, char, fitur)\u001b[0m\n\u001b[0;32m    189\u001b[0m         \u001b[1;31m# rat = fuzz.token_set_ratio(i, gejala)\u001b[0m\u001b[1;33m\u001b[0m\u001b[1;33m\u001b[0m\u001b[1;33m\u001b[0m\u001b[0m\n\u001b[0;32m    190\u001b[0m         \u001b[1;31m# rat = essay_dice_similarity(i, jawaban)\u001b[0m\u001b[1;33m\u001b[0m\u001b[1;33m\u001b[0m\u001b[1;33m\u001b[0m\u001b[0m\n\u001b[1;32m--> 191\u001b[1;33m         \u001b[0mrat\u001b[0m \u001b[1;33m=\u001b[0m \u001b[0messay_dice_similarity\u001b[0m\u001b[1;33m(\u001b[0m\u001b[0mi\u001b[0m\u001b[1;33m,\u001b[0m \u001b[0mjawaban\u001b[0m\u001b[1;33m,\u001b[0m \u001b[0mfitur\u001b[0m\u001b[1;33m=\u001b[0m\u001b[0mfitur\u001b[0m\u001b[1;33m,\u001b[0m \u001b[0mchar\u001b[0m \u001b[1;33m=\u001b[0m \u001b[0mchar\u001b[0m\u001b[1;33m)\u001b[0m\u001b[1;33m\u001b[0m\u001b[1;33m\u001b[0m\u001b[0m\n\u001b[0m\u001b[0;32m    192\u001b[0m         \u001b[0mratio\u001b[0m\u001b[1;33m.\u001b[0m\u001b[0mappend\u001b[0m\u001b[1;33m(\u001b[0m\u001b[0mrat\u001b[0m\u001b[1;33m[\u001b[0m\u001b[1;36m0\u001b[0m\u001b[1;33m]\u001b[0m\u001b[1;33m)\u001b[0m\u001b[1;33m\u001b[0m\u001b[1;33m\u001b[0m\u001b[0m\n\u001b[0;32m    193\u001b[0m         \u001b[0mtranform\u001b[0m\u001b[1;33m.\u001b[0m\u001b[0mappend\u001b[0m\u001b[1;33m(\u001b[0m\u001b[0mrat\u001b[0m\u001b[1;33m[\u001b[0m\u001b[1;36m1\u001b[0m\u001b[1;33m]\u001b[0m\u001b[1;33m)\u001b[0m\u001b[1;33m\u001b[0m\u001b[1;33m\u001b[0m\u001b[0m\n",
      "\u001b[1;32mD:\\github\\python\\essay_scoring\\ES\\scoring.py\u001b[0m in \u001b[0;36messay_dice_similarity\u001b[1;34m(kunci_jawaban, jawaban, char, fitur)\u001b[0m\n\u001b[0;32m    120\u001b[0m     \u001b[0mkunci_jawaban_unik\u001b[0m \u001b[1;33m=\u001b[0m \u001b[1;34m\" \"\u001b[0m\u001b[1;33m.\u001b[0m\u001b[0mjoin\u001b[0m\u001b[1;33m(\u001b[0m\u001b[0mget_unik\u001b[0m\u001b[1;33m(\u001b[0m\u001b[0mkunci_jawaban\u001b[0m\u001b[1;33m)\u001b[0m\u001b[1;33m)\u001b[0m\u001b[1;33m\u001b[0m\u001b[1;33m\u001b[0m\u001b[0m\n\u001b[0;32m    121\u001b[0m     \u001b[1;31m# print(kunci_jawaban_unik)\u001b[0m\u001b[1;33m\u001b[0m\u001b[1;33m\u001b[0m\u001b[1;33m\u001b[0m\u001b[0m\n\u001b[1;32m--> 122\u001b[1;33m     \u001b[0mjawaban\u001b[0m \u001b[1;33m=\u001b[0m \u001b[0mpraproses\u001b[0m\u001b[1;33m(\u001b[0m\u001b[0mjawaban\u001b[0m\u001b[1;33m,\u001b[0m \u001b[0mkunci_jawaban_unik\u001b[0m\u001b[1;33m)\u001b[0m\u001b[1;33m\u001b[0m\u001b[1;33m\u001b[0m\u001b[0m\n\u001b[0m\u001b[0;32m    123\u001b[0m     \u001b[1;31m# print(jawaban)\u001b[0m\u001b[1;33m\u001b[0m\u001b[1;33m\u001b[0m\u001b[1;33m\u001b[0m\u001b[0m\n\u001b[0;32m    124\u001b[0m     \u001b[0msimm\u001b[0m \u001b[1;33m=\u001b[0m \u001b[0mlist\u001b[0m\u001b[1;33m(\u001b[0m\u001b[1;33m)\u001b[0m\u001b[1;33m\u001b[0m\u001b[1;33m\u001b[0m\u001b[0m\n",
      "\u001b[1;32mD:\\github\\python\\essay_scoring\\ES\\scoring.py\u001b[0m in \u001b[0;36mpraproses\u001b[1;34m(jawaban, kunci_jawaban_unik)\u001b[0m\n\u001b[0;32m     67\u001b[0m     \u001b[0mjawaban\u001b[0m \u001b[1;33m=\u001b[0m \u001b[0mnrm\u001b[0m\u001b[1;33m.\u001b[0m\u001b[0mpisahKata\u001b[0m\u001b[1;33m(\u001b[0m\u001b[0mkunci_jawaban_unik\u001b[0m\u001b[1;33m,\u001b[0m \u001b[0mjawaban\u001b[0m\u001b[1;33m)\u001b[0m\u001b[1;33m\u001b[0m\u001b[1;33m\u001b[0m\u001b[0m\n\u001b[0;32m     68\u001b[0m     \u001b[0mjawaban\u001b[0m \u001b[1;33m=\u001b[0m \u001b[0mnrm\u001b[0m\u001b[1;33m.\u001b[0m\u001b[0mcek_typo\u001b[0m\u001b[1;33m(\u001b[0m\u001b[0mkunci_jawaban_unik\u001b[0m\u001b[1;33m,\u001b[0m \u001b[0mjawaban\u001b[0m\u001b[1;33m,\u001b[0m \u001b[1;36m0.95\u001b[0m\u001b[1;33m)\u001b[0m\u001b[1;33m\u001b[0m\u001b[1;33m\u001b[0m\u001b[0m\n\u001b[1;32m---> 69\u001b[1;33m     \u001b[0mjawaban_ngram\u001b[0m \u001b[1;33m=\u001b[0m \u001b[0mngram\u001b[0m\u001b[1;33m.\u001b[0m\u001b[0men_geram\u001b[0m\u001b[1;33m(\u001b[0m\u001b[0mkunci_jawaban_unik\u001b[0m\u001b[1;33m,\u001b[0m \u001b[0mjawaban\u001b[0m\u001b[1;33m)\u001b[0m\u001b[1;33m.\u001b[0m\u001b[0msplit\u001b[0m\u001b[1;33m(\u001b[0m\u001b[1;33m)\u001b[0m\u001b[1;33m\u001b[0m\u001b[1;33m\u001b[0m\u001b[0m\n\u001b[0m\u001b[0;32m     70\u001b[0m     \u001b[1;31m#jawaban = jawaban +\" \"+ \" \".join(list(set(jawaban_ngram.split())))\u001b[0m\u001b[1;33m\u001b[0m\u001b[1;33m\u001b[0m\u001b[1;33m\u001b[0m\u001b[0m\n\u001b[0;32m     71\u001b[0m     \u001b[0mjawaban\u001b[0m \u001b[1;33m=\u001b[0m \u001b[0mjawaban\u001b[0m\u001b[1;33m.\u001b[0m\u001b[0msplit\u001b[0m\u001b[1;33m(\u001b[0m\u001b[1;33m)\u001b[0m\u001b[1;33m\u001b[0m\u001b[1;33m\u001b[0m\u001b[0m\n",
      "\u001b[1;32mD:\\github\\python\\essay_scoring\\ES\\Nawa\\ngram.py\u001b[0m in \u001b[0;36men_geram\u001b[1;34m(kunci, teks)\u001b[0m\n\u001b[0;32m     88\u001b[0m         \u001b[0mjawaban\u001b[0m \u001b[1;33m=\u001b[0m \u001b[0mtoTeks\u001b[0m\u001b[1;33m(\u001b[0m\u001b[0mtks\u001b[0m\u001b[1;33m)\u001b[0m\u001b[1;33m\u001b[0m\u001b[1;33m\u001b[0m\u001b[0m\n\u001b[0;32m     89\u001b[0m         \u001b[1;31m# return jawaban\u001b[0m\u001b[1;33m\u001b[0m\u001b[1;33m\u001b[0m\u001b[1;33m\u001b[0m\u001b[0m\n\u001b[1;32m---> 90\u001b[1;33m         \u001b[1;32mreturn\u001b[0m \u001b[0mcek_tipo\u001b[0m\u001b[1;33m(\u001b[0m\u001b[0mkunci\u001b[0m\u001b[1;33m,\u001b[0m \u001b[0mjawaban\u001b[0m\u001b[1;33m)\u001b[0m\u001b[1;33m\u001b[0m\u001b[1;33m\u001b[0m\u001b[0m\n\u001b[0m",
      "\u001b[1;32mD:\\github\\python\\essay_scoring\\ES\\Nawa\\ngram.py\u001b[0m in \u001b[0;36mcek_tipo\u001b[1;34m(kunci_jawaban, jawaban, toleransi)\u001b[0m\n\u001b[0;32m     31\u001b[0m         \u001b[0mkunci_jawaban_\u001b[0m \u001b[1;33m=\u001b[0m \u001b[1;33m[\u001b[0m\u001b[1;33m]\u001b[0m\u001b[1;33m\u001b[0m\u001b[1;33m\u001b[0m\u001b[0m\n\u001b[0;32m     32\u001b[0m         \u001b[1;32mfor\u001b[0m \u001b[0mj\u001b[0m \u001b[1;32min\u001b[0m \u001b[0mkunci_jawaban_split\u001b[0m\u001b[1;33m:\u001b[0m\u001b[1;33m\u001b[0m\u001b[1;33m\u001b[0m\u001b[0m\n\u001b[1;32m---> 33\u001b[1;33m             \u001b[0mw_1\u001b[0m\u001b[1;33m.\u001b[0m\u001b[0mappend\u001b[0m\u001b[1;33m(\u001b[0m\u001b[0mdistance\u001b[0m\u001b[1;33m.\u001b[0m\u001b[0mget_jaro_distance\u001b[0m\u001b[1;33m(\u001b[0m\u001b[0mjawaban_split\u001b[0m\u001b[1;33m[\u001b[0m\u001b[0mi\u001b[0m\u001b[1;33m]\u001b[0m\u001b[1;33m,\u001b[0m \u001b[0mj\u001b[0m\u001b[1;33m,\u001b[0m \u001b[0mwinkler\u001b[0m\u001b[1;33m=\u001b[0m\u001b[1;32mTrue\u001b[0m\u001b[1;33m,\u001b[0m \u001b[0mscaling\u001b[0m\u001b[1;33m=\u001b[0m\u001b[1;36m0.1\u001b[0m\u001b[1;33m)\u001b[0m\u001b[1;33m)\u001b[0m\u001b[1;33m\u001b[0m\u001b[1;33m\u001b[0m\u001b[0m\n\u001b[0m\u001b[0;32m     34\u001b[0m             \u001b[0mkunci_jawaban_\u001b[0m\u001b[1;33m.\u001b[0m\u001b[0mappend\u001b[0m\u001b[1;33m(\u001b[0m\u001b[0mj\u001b[0m\u001b[1;33m)\u001b[0m\u001b[1;33m\u001b[0m\u001b[1;33m\u001b[0m\u001b[0m\n\u001b[0;32m     35\u001b[0m         \u001b[1;32mif\u001b[0m \u001b[0mmax\u001b[0m\u001b[1;33m(\u001b[0m\u001b[0mw_1\u001b[0m\u001b[1;33m)\u001b[0m \u001b[1;33m>=\u001b[0m \u001b[0mtoleransi\u001b[0m\u001b[1;33m:\u001b[0m\u001b[1;33m\u001b[0m\u001b[1;33m\u001b[0m\u001b[0m\n",
      "\u001b[1;32m~\\Anaconda3\\lib\\site-packages\\pyjarowinkler\\distance.py\u001b[0m in \u001b[0;36mget_jaro_distance\u001b[1;34m(first, second, winkler, winkler_ajustment, scaling)\u001b[0m\n\u001b[0;32m     30\u001b[0m             second.__class__.__name__))\n\u001b[0;32m     31\u001b[0m \u001b[1;33m\u001b[0m\u001b[0m\n\u001b[1;32m---> 32\u001b[1;33m     \u001b[0mjaro\u001b[0m \u001b[1;33m=\u001b[0m \u001b[0m_score\u001b[0m\u001b[1;33m(\u001b[0m\u001b[0mfirst\u001b[0m\u001b[1;33m,\u001b[0m \u001b[0msecond\u001b[0m\u001b[1;33m)\u001b[0m\u001b[1;33m\u001b[0m\u001b[1;33m\u001b[0m\u001b[0m\n\u001b[0m\u001b[0;32m     33\u001b[0m     \u001b[0mcl\u001b[0m \u001b[1;33m=\u001b[0m \u001b[0mmin\u001b[0m\u001b[1;33m(\u001b[0m\u001b[0mlen\u001b[0m\u001b[1;33m(\u001b[0m\u001b[0m_get_prefix\u001b[0m\u001b[1;33m(\u001b[0m\u001b[0mfirst\u001b[0m\u001b[1;33m,\u001b[0m \u001b[0msecond\u001b[0m\u001b[1;33m)\u001b[0m\u001b[1;33m)\u001b[0m\u001b[1;33m,\u001b[0m \u001b[1;36m4\u001b[0m\u001b[1;33m)\u001b[0m\u001b[1;33m\u001b[0m\u001b[1;33m\u001b[0m\u001b[0m\n\u001b[0;32m     34\u001b[0m \u001b[1;33m\u001b[0m\u001b[0m\n",
      "\u001b[1;32m~\\Anaconda3\\lib\\site-packages\\pyjarowinkler\\distance.py\u001b[0m in \u001b[0;36m_score\u001b[1;34m(first, second)\u001b[0m\n\u001b[0;32m     46\u001b[0m \u001b[1;33m\u001b[0m\u001b[0m\n\u001b[0;32m     47\u001b[0m     \u001b[0mm1\u001b[0m \u001b[1;33m=\u001b[0m \u001b[0m_get_matching_characters\u001b[0m\u001b[1;33m(\u001b[0m\u001b[0mshorter\u001b[0m\u001b[1;33m,\u001b[0m \u001b[0mlonger\u001b[0m\u001b[1;33m)\u001b[0m\u001b[1;33m\u001b[0m\u001b[1;33m\u001b[0m\u001b[0m\n\u001b[1;32m---> 48\u001b[1;33m     \u001b[0mm2\u001b[0m \u001b[1;33m=\u001b[0m \u001b[0m_get_matching_characters\u001b[0m\u001b[1;33m(\u001b[0m\u001b[0mlonger\u001b[0m\u001b[1;33m,\u001b[0m \u001b[0mshorter\u001b[0m\u001b[1;33m)\u001b[0m\u001b[1;33m\u001b[0m\u001b[1;33m\u001b[0m\u001b[0m\n\u001b[0m\u001b[0;32m     49\u001b[0m \u001b[1;33m\u001b[0m\u001b[0m\n\u001b[0;32m     50\u001b[0m     \u001b[1;32mif\u001b[0m \u001b[0mlen\u001b[0m\u001b[1;33m(\u001b[0m\u001b[0mm1\u001b[0m\u001b[1;33m)\u001b[0m \u001b[1;33m==\u001b[0m \u001b[1;36m0\u001b[0m \u001b[1;32mor\u001b[0m \u001b[0mlen\u001b[0m\u001b[1;33m(\u001b[0m\u001b[0mm2\u001b[0m\u001b[1;33m)\u001b[0m \u001b[1;33m==\u001b[0m \u001b[1;36m0\u001b[0m\u001b[1;33m:\u001b[0m\u001b[1;33m\u001b[0m\u001b[1;33m\u001b[0m\u001b[0m\n",
      "\u001b[1;32m~\\Anaconda3\\lib\\site-packages\\pyjarowinkler\\distance.py\u001b[0m in \u001b[0;36m_get_matching_characters\u001b[1;34m(first, second)\u001b[0m\n\u001b[0;32m     91\u001b[0m \u001b[1;33m\u001b[0m\u001b[0m\n\u001b[0;32m     92\u001b[0m     \u001b[1;32mfor\u001b[0m \u001b[0mi\u001b[0m\u001b[1;33m,\u001b[0m \u001b[0ml\u001b[0m \u001b[1;32min\u001b[0m \u001b[0menumerate\u001b[0m\u001b[1;33m(\u001b[0m\u001b[0mfirst\u001b[0m\u001b[1;33m)\u001b[0m\u001b[1;33m:\u001b[0m\u001b[1;33m\u001b[0m\u001b[1;33m\u001b[0m\u001b[0m\n\u001b[1;32m---> 93\u001b[1;33m         \u001b[0mleft\u001b[0m\u001b[1;33m,\u001b[0m \u001b[0mright\u001b[0m \u001b[1;33m=\u001b[0m \u001b[0mint\u001b[0m\u001b[1;33m(\u001b[0m\u001b[0mmax\u001b[0m\u001b[1;33m(\u001b[0m\u001b[1;36m0\u001b[0m\u001b[1;33m,\u001b[0m \u001b[0mi\u001b[0m \u001b[1;33m-\u001b[0m \u001b[0mlimit\u001b[0m\u001b[1;33m)\u001b[0m\u001b[1;33m)\u001b[0m\u001b[1;33m,\u001b[0m \u001b[0mint\u001b[0m\u001b[1;33m(\u001b[0m\u001b[0mmin\u001b[0m\u001b[1;33m(\u001b[0m\u001b[0mi\u001b[0m \u001b[1;33m+\u001b[0m \u001b[0mlimit\u001b[0m \u001b[1;33m+\u001b[0m \u001b[1;36m1\u001b[0m\u001b[1;33m,\u001b[0m \u001b[0mlen\u001b[0m\u001b[1;33m(\u001b[0m\u001b[0msecond\u001b[0m\u001b[1;33m)\u001b[0m\u001b[1;33m)\u001b[0m\u001b[1;33m)\u001b[0m\u001b[1;33m\u001b[0m\u001b[1;33m\u001b[0m\u001b[0m\n\u001b[0m\u001b[0;32m     94\u001b[0m         \u001b[1;32mif\u001b[0m \u001b[0ml\u001b[0m \u001b[1;32min\u001b[0m \u001b[0msecond\u001b[0m\u001b[1;33m[\u001b[0m\u001b[0mleft\u001b[0m\u001b[1;33m:\u001b[0m\u001b[0mright\u001b[0m\u001b[1;33m]\u001b[0m\u001b[1;33m:\u001b[0m\u001b[1;33m\u001b[0m\u001b[1;33m\u001b[0m\u001b[0m\n\u001b[0;32m     95\u001b[0m             \u001b[0mcommon\u001b[0m\u001b[1;33m.\u001b[0m\u001b[0mappend\u001b[0m\u001b[1;33m(\u001b[0m\u001b[0ml\u001b[0m\u001b[1;33m)\u001b[0m\u001b[1;33m\u001b[0m\u001b[1;33m\u001b[0m\u001b[0m\n",
      "\u001b[1;31mKeyboardInterrupt\u001b[0m: "
     ]
    }
   ],
   "source": [
    "f = False\n",
    "c = False\n",
    "\n",
    "cosine_skor = list()\n",
    "cosine_qualifikasi = list()\n",
    "cosine_similarity = list()\n",
    "cosine_status = list()\n",
    "cosine_cwm = list()\n",
    "\n",
    "dice_skor = list()\n",
    "dice_qualifikasi = list()\n",
    "dice_similarity = list()\n",
    "dice_status = list()\n",
    "dice_cwm = list()\n",
    "\n",
    "jaccard_skor = list()\n",
    "jaccard_qualifikasi = list()\n",
    "jaccard_similarity = list()\n",
    "jaccard_status = list()\n",
    "jaccard_cwm = list()\n",
    "\n",
    "for ix, j in enumerate(jawaban):\n",
    "    hasil = sc.scoring_cosine(j,kuncijawaban_list,skor_list,keterangan, fitur=f, char = c)\n",
    "    cosine_skor.append(hasil[0])\n",
    "    cosine_qualifikasi.append(hasil[1])\n",
    "    cosine_similarity.append(hasil[2])\n",
    "    cosine_status.append(hasil[3])\n",
    "    cosine_cwm.append(sc.cek_mised(hasil[3]))\n",
    "\n",
    "    hasil = sc.scoring_dice(j,kuncijawaban_list,skor_list,keterangan, fitur=f, char = c)\n",
    "    dice_skor.append(hasil[0])\n",
    "    dice_qualifikasi.append(hasil[1])\n",
    "    dice_similarity.append(hasil[2])\n",
    "    dice_status.append(hasil[3])\n",
    "    dice_cwm.append(sc.cek_mised(hasil[3]))\n",
    "\n",
    "    hasil = sc.scoring_jaccard(j,kuncijawaban_list,skor_list,keterangan, fitur=f, char = c)\n",
    "    jaccard_skor.append(hasil[0])\n",
    "    jaccard_qualifikasi.append(hasil[1])\n",
    "    jaccard_similarity.append(hasil[2])\n",
    "    jaccard_status.append(hasil[3])\n",
    "    jaccard_cwm.append(sc.cek_mised(hasil[3]))\n",
    "\n",
    "    if ix %10==0 and ix != 0:\n",
    "        if ix !=0:\n",
    "            print(ix, end=\" \")\n",
    "    else:\n",
    "        print(\".\", end=\"\")\n",
    "\n",
    "dict_={\n",
    "    'cosine_skor' : cosine_skor,\n",
    "    'cosine_qualifikasi' : cosine_qualifikasi,\n",
    "    'cosine_similarity' : cosine_similarity,\n",
    "    'cosine_status' : cosine_status,\n",
    "    'cosine_cwm' : cosine_cwm,\n",
    "\n",
    "    'dice_skor' : dice_skor,\n",
    "    'dice_qualifikasi' : dice_qualifikasi,\n",
    "    'dice_similarity' : dice_similarity,\n",
    "    'dice_status' : dice_status,\n",
    "    'dice_cwm' : dice_cwm,\n",
    "\n",
    "    'jaccard_skor' : jaccard_skor,\n",
    "    'jaccard_qualifikasi' : jaccard_qualifikasi,\n",
    "    'jaccard_similarity' : jaccard_similarity,\n",
    "    'jaccard_status' : jaccard_status,\n",
    "    'jaccard_cwm' : jaccard_cwm,\n",
    "\n",
    "    'jawaban':jawaban,\n",
    "}\n",
    "#simpan hasil\n",
    "dataframe_hasil = pd.DataFrame(data=dict_)\n",
    "# dataframe_hasil.to_excel(\"hasil/hasil_scoring_\"+\".xlsx\")"
   ]
  },
  {
   "cell_type": "code",
   "execution_count": null,
   "metadata": {},
   "outputs": [],
   "source": []
  },
  {
   "cell_type": "code",
   "execution_count": 17,
   "metadata": {},
   "outputs": [
    {
     "data": {
      "text/plain": [
       "100"
      ]
     },
     "execution_count": 17,
     "metadata": {},
     "output_type": "execute_result"
    }
   ],
   "source": [
    "len(jaccard_cwm)"
   ]
  },
  {
   "cell_type": "markdown",
   "metadata": {},
   "source": [
    "# Rouge"
   ]
  },
  {
   "cell_type": "code",
   "execution_count": null,
   "metadata": {},
   "outputs": [],
   "source": [
    "\n",
    "data_rouge = [\"cosine_cwm\",\"dice_cwm\",\"jaccard_cwm\"]\n",
    "nama = [\"Cosine\",\"Dice\",\"Jaccard\"]\n",
    "\n",
    "\n",
    "metode = list()\n",
    "precision = list()\n",
    "recall = list()\n",
    "f1_score = list()\n",
    "\n",
    "correctl = list()\n",
    "missedl = list()\n",
    "wrongl = list()\n",
    "\n",
    "for i, j in zip(data_rouge, nama):\n",
    "    dataf = dataframe_hasil[i].tolist()\n",
    "    correct = 0\n",
    "    missed  = 0\n",
    "    wrong   = 0\n",
    "    for km in dataf:\n",
    "        if km == \"correct\":\n",
    "            correct +=1\n",
    "        elif km == \"missed\":\n",
    "            missed +=1\n",
    "        elif km ==\"wrong\":\n",
    "            wrong +=1\n",
    "        else:\n",
    "            print(km)\n",
    "    \n",
    "    pres = correct/(correct+wrong)\n",
    "    precision.append(pres)\n",
    "    rec =  correct/(correct+missed)\n",
    "    recall.append(rec)\n",
    "    fm = 2*pres*(rec/(rec+pres))\n",
    "    f1_score.append(fm)\n",
    "    \n",
    "    correctl.append(correct)\n",
    "    missedl.append(missed)\n",
    "    wrongl.append(wrong)\n",
    "    \n",
    "dict1 = {\n",
    "        \"metode\":nama,\n",
    "        \"correct\":correctl,\n",
    "        \"missed\":missedl,\n",
    "        \"wrong\":wrongl,\n",
    "        }\n",
    "\n",
    "dict2 = {\n",
    "        \"metode\":nama,\n",
    "        \"precision\":precision,\n",
    "        \"recall\":recall,\n",
    "        \"f-Measure\":f1_score,\n",
    "        }\n",
    "df_cwm = pd.DataFrame.from_dict(dict1).set_index('metode')\n",
    "df_f_score = pd.DataFrame.from_dict(dict2).set_index('metode')"
   ]
  },
  {
   "cell_type": "code",
   "execution_count": null,
   "metadata": {},
   "outputs": [],
   "source": [
    "print(df_cwm)\n",
    "print(df_f_score)"
   ]
  },
  {
   "cell_type": "code",
   "execution_count": null,
   "metadata": {},
   "outputs": [],
   "source": []
  },
  {
   "cell_type": "code",
   "execution_count": 6,
   "metadata": {},
   "outputs": [
    {
     "data": {
      "text/html": [
       "<div>\n",
       "<style scoped>\n",
       "    .dataframe tbody tr th:only-of-type {\n",
       "        vertical-align: middle;\n",
       "    }\n",
       "\n",
       "    .dataframe tbody tr th {\n",
       "        vertical-align: top;\n",
       "    }\n",
       "\n",
       "    .dataframe thead th {\n",
       "        text-align: right;\n",
       "    }\n",
       "</style>\n",
       "<table border=\"1\" class=\"dataframe\">\n",
       "  <thead>\n",
       "    <tr style=\"text-align: right;\">\n",
       "      <th></th>\n",
       "      <th>correct</th>\n",
       "      <th>missed</th>\n",
       "      <th>wrong</th>\n",
       "    </tr>\n",
       "    <tr>\n",
       "      <th>metode</th>\n",
       "      <th></th>\n",
       "      <th></th>\n",
       "      <th></th>\n",
       "    </tr>\n",
       "  </thead>\n",
       "  <tbody>\n",
       "    <tr>\n",
       "      <th>Cosine</th>\n",
       "      <td>61</td>\n",
       "      <td>39</td>\n",
       "      <td>0</td>\n",
       "    </tr>\n",
       "    <tr>\n",
       "      <th>Dice</th>\n",
       "      <td>61</td>\n",
       "      <td>39</td>\n",
       "      <td>0</td>\n",
       "    </tr>\n",
       "    <tr>\n",
       "      <th>Jaccard</th>\n",
       "      <td>43</td>\n",
       "      <td>56</td>\n",
       "      <td>1</td>\n",
       "    </tr>\n",
       "  </tbody>\n",
       "</table>\n",
       "</div>"
      ],
      "text/plain": [
       "         correct  missed  wrong\n",
       "metode                         \n",
       "Cosine        61      39      0\n",
       "Dice          61      39      0\n",
       "Jaccard       43      56      1"
      ]
     },
     "execution_count": 6,
     "metadata": {},
     "output_type": "execute_result"
    }
   ],
   "source": [
    "#Fitur True char False\n",
    "df_cwm"
   ]
  },
  {
   "cell_type": "code",
   "execution_count": 7,
   "metadata": {},
   "outputs": [
    {
     "data": {
      "text/html": [
       "<div>\n",
       "<style scoped>\n",
       "    .dataframe tbody tr th:only-of-type {\n",
       "        vertical-align: middle;\n",
       "    }\n",
       "\n",
       "    .dataframe tbody tr th {\n",
       "        vertical-align: top;\n",
       "    }\n",
       "\n",
       "    .dataframe thead th {\n",
       "        text-align: right;\n",
       "    }\n",
       "</style>\n",
       "<table border=\"1\" class=\"dataframe\">\n",
       "  <thead>\n",
       "    <tr style=\"text-align: right;\">\n",
       "      <th></th>\n",
       "      <th>precision</th>\n",
       "      <th>recall</th>\n",
       "      <th>f-Measure</th>\n",
       "    </tr>\n",
       "    <tr>\n",
       "      <th>metode</th>\n",
       "      <th></th>\n",
       "      <th></th>\n",
       "      <th></th>\n",
       "    </tr>\n",
       "  </thead>\n",
       "  <tbody>\n",
       "    <tr>\n",
       "      <th>Cosine</th>\n",
       "      <td>1.000000</td>\n",
       "      <td>0.610000</td>\n",
       "      <td>0.757764</td>\n",
       "    </tr>\n",
       "    <tr>\n",
       "      <th>Dice</th>\n",
       "      <td>1.000000</td>\n",
       "      <td>0.610000</td>\n",
       "      <td>0.757764</td>\n",
       "    </tr>\n",
       "    <tr>\n",
       "      <th>Jaccard</th>\n",
       "      <td>0.977273</td>\n",
       "      <td>0.434343</td>\n",
       "      <td>0.601399</td>\n",
       "    </tr>\n",
       "  </tbody>\n",
       "</table>\n",
       "</div>"
      ],
      "text/plain": [
       "         precision    recall  f-Measure\n",
       "metode                                 \n",
       "Cosine    1.000000  0.610000   0.757764\n",
       "Dice      1.000000  0.610000   0.757764\n",
       "Jaccard   0.977273  0.434343   0.601399"
      ]
     },
     "execution_count": 7,
     "metadata": {},
     "output_type": "execute_result"
    }
   ],
   "source": [
    "df_f_score"
   ]
  },
  {
   "cell_type": "code",
   "execution_count": null,
   "metadata": {},
   "outputs": [],
   "source": []
  },
  {
   "cell_type": "code",
   "execution_count": null,
   "metadata": {},
   "outputs": [],
   "source": []
  },
  {
   "cell_type": "code",
   "execution_count": null,
   "metadata": {},
   "outputs": [],
   "source": []
  },
  {
   "cell_type": "code",
   "execution_count": null,
   "metadata": {},
   "outputs": [],
   "source": []
  },
  {
   "cell_type": "code",
   "execution_count": null,
   "metadata": {},
   "outputs": [],
   "source": []
  },
  {
   "cell_type": "code",
   "execution_count": null,
   "metadata": {},
   "outputs": [],
   "source": []
  }
 ],
 "metadata": {
  "kernelspec": {
   "display_name": "Python 3",
   "language": "python",
   "name": "python3"
  },
  "language_info": {
   "codemirror_mode": {
    "name": "ipython",
    "version": 3
   },
   "file_extension": ".py",
   "mimetype": "text/x-python",
   "name": "python",
   "nbconvert_exporter": "python",
   "pygments_lexer": "ipython3",
   "version": "3.7.3"
  }
 },
 "nbformat": 4,
 "nbformat_minor": 2
}
