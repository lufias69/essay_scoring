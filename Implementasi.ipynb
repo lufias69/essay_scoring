{
 "cells": [
  {
   "cell_type": "code",
   "execution_count": 1,
   "metadata": {},
   "outputs": [],
   "source": [
    "from ES import scoring as sc\n",
    "import pandas as pd"
   ]
  },
  {
   "cell_type": "markdown",
   "metadata": {},
   "source": [
    "# Load Jawaban"
   ]
  },
  {
   "cell_type": "code",
   "execution_count": 2,
   "metadata": {},
   "outputs": [
    {
     "name": "stdout",
     "output_type": "stream",
     "text": [
      "100\n"
     ]
    },
    {
     "data": {
      "text/html": [
       "<div>\n",
       "<style scoped>\n",
       "    .dataframe tbody tr th:only-of-type {\n",
       "        vertical-align: middle;\n",
       "    }\n",
       "\n",
       "    .dataframe tbody tr th {\n",
       "        vertical-align: top;\n",
       "    }\n",
       "\n",
       "    .dataframe thead th {\n",
       "        text-align: right;\n",
       "    }\n",
       "</style>\n",
       "<table border=\"1\" class=\"dataframe\">\n",
       "  <thead>\n",
       "    <tr style=\"text-align: right;\">\n",
       "      <th></th>\n",
       "      <th>Column1</th>\n",
       "      <th>jawaban</th>\n",
       "      <th>score</th>\n",
       "      <th>buat label</th>\n",
       "      <th>Column3</th>\n",
       "      <th>Column4</th>\n",
       "    </tr>\n",
       "  </thead>\n",
       "  <tbody>\n",
       "    <tr>\n",
       "      <th>0</th>\n",
       "      <td>5212</td>\n",
       "      <td>ayo kunjungi machu picchu yang megahsejuk dan ...</td>\n",
       "      <td>0</td>\n",
       "      <td>1.0</td>\n",
       "      <td>100</td>\n",
       "      <td>tidak mirip</td>\n",
       "    </tr>\n",
       "    <tr>\n",
       "      <th>1</th>\n",
       "      <td>1628</td>\n",
       "      <td>telepon0217381 1111 untuk mengetahui info lebi...</td>\n",
       "      <td>1</td>\n",
       "      <td>1.0</td>\n",
       "      <td>100</td>\n",
       "      <td>sangat mirip</td>\n",
       "    </tr>\n",
       "    <tr>\n",
       "      <th>2</th>\n",
       "      <td>1079</td>\n",
       "      <td>\"pendakian dua hari bersama buana wisata ke ma...</td>\n",
       "      <td>1</td>\n",
       "      <td>1.0</td>\n",
       "      <td>100</td>\n",
       "      <td>tidak mirip</td>\n",
       "    </tr>\n",
       "    <tr>\n",
       "      <th>3</th>\n",
       "      <td>3827</td>\n",
       "      <td>anda dapat menelepon 021 7381 1111 sekarang ju...</td>\n",
       "      <td>1</td>\n",
       "      <td>1.0</td>\n",
       "      <td>100</td>\n",
       "      <td>sangat mirip</td>\n",
       "    </tr>\n",
       "    <tr>\n",
       "      <th>4</th>\n",
       "      <td>1388</td>\n",
       "      <td>arsitektur yang menabjub kan teras teras yang ...</td>\n",
       "      <td>0</td>\n",
       "      <td>1.0</td>\n",
       "      <td>100</td>\n",
       "      <td>sangat tidak mirip</td>\n",
       "    </tr>\n",
       "  </tbody>\n",
       "</table>\n",
       "</div>"
      ],
      "text/plain": [
       "   Column1                                            jawaban  score  \\\n",
       "0     5212  ayo kunjungi machu picchu yang megahsejuk dan ...      0   \n",
       "1     1628  telepon0217381 1111 untuk mengetahui info lebi...      1   \n",
       "2     1079  \"pendakian dua hari bersama buana wisata ke ma...      1   \n",
       "3     3827  anda dapat menelepon 021 7381 1111 sekarang ju...      1   \n",
       "4     1388  arsitektur yang menabjub kan teras teras yang ...      0   \n",
       "\n",
       "   buat label  Column3             Column4  \n",
       "0         1.0      100         tidak mirip  \n",
       "1         1.0      100        sangat mirip  \n",
       "2         1.0      100         tidak mirip  \n",
       "3         1.0      100        sangat mirip  \n",
       "4         1.0      100  sangat tidak mirip  "
      ]
     },
     "execution_count": 2,
     "metadata": {},
     "output_type": "execute_result"
    }
   ],
   "source": [
    "#Jawaban\n",
    "dir_ = 'data'\n",
    "file_name = 'jawaban'\n",
    "data = pd.read_excel(dir_+\"/\"+file_name+\".xlsx\")\n",
    "jawaban = data[:100][\"jawaban\"].tolist()\n",
    "print(len(jawaban))\n",
    "data.head()"
   ]
  },
  {
   "cell_type": "markdown",
   "metadata": {},
   "source": [
    "# Load Kunci Jawaban"
   ]
  },
  {
   "cell_type": "code",
   "execution_count": 4,
   "metadata": {},
   "outputs": [
    {
     "data": {
      "text/html": [
       "<div>\n",
       "<style scoped>\n",
       "    .dataframe tbody tr th:only-of-type {\n",
       "        vertical-align: middle;\n",
       "    }\n",
       "\n",
       "    .dataframe tbody tr th {\n",
       "        vertical-align: top;\n",
       "    }\n",
       "\n",
       "    .dataframe thead th {\n",
       "        text-align: right;\n",
       "    }\n",
       "</style>\n",
       "<table border=\"1\" class=\"dataframe\">\n",
       "  <thead>\n",
       "    <tr style=\"text-align: right;\">\n",
       "      <th></th>\n",
       "      <th>kunci_jawaban</th>\n",
       "      <th>skor</th>\n",
       "      <th>keterangan</th>\n",
       "    </tr>\n",
       "  </thead>\n",
       "  <tbody>\n",
       "    <tr>\n",
       "      <th>0</th>\n",
       "      <td>ayo kunjungi machu picchu yang megahsejuk dan ...</td>\n",
       "      <td>20</td>\n",
       "      <td>salah</td>\n",
       "    </tr>\n",
       "    <tr>\n",
       "      <th>1</th>\n",
       "      <td>ayo kunjungi machu picchu yang megahsejuk dan ...</td>\n",
       "      <td>20</td>\n",
       "      <td>salah</td>\n",
       "    </tr>\n",
       "    <tr>\n",
       "      <th>2</th>\n",
       "      <td>arsitektur yang menabjub kan teras teras yang ...</td>\n",
       "      <td>20</td>\n",
       "      <td>salah</td>\n",
       "    </tr>\n",
       "    <tr>\n",
       "      <th>3</th>\n",
       "      <td>berbagai perjalanan wisata yang akan membantu ...</td>\n",
       "      <td>20</td>\n",
       "      <td>salah</td>\n",
       "    </tr>\n",
       "    <tr>\n",
       "      <th>4</th>\n",
       "      <td>berkunjunglah selama beberapa hari atau tingga...</td>\n",
       "      <td>20</td>\n",
       "      <td>salah</td>\n",
       "    </tr>\n",
       "  </tbody>\n",
       "</table>\n",
       "</div>"
      ],
      "text/plain": [
       "                                       kunci_jawaban  skor keterangan\n",
       "0  ayo kunjungi machu picchu yang megahsejuk dan ...    20      salah\n",
       "1  ayo kunjungi machu picchu yang megahsejuk dan ...    20      salah\n",
       "2  arsitektur yang menabjub kan teras teras yang ...    20      salah\n",
       "3  berbagai perjalanan wisata yang akan membantu ...    20      salah\n",
       "4  berkunjunglah selama beberapa hari atau tingga...    20      salah"
      ]
     },
     "execution_count": 4,
     "metadata": {},
     "output_type": "execute_result"
    }
   ],
   "source": [
    "# jawaban = \"telepon0217381 1111 sekarang juga untuk informasi lebih lanjut kunjungi website kami di buanawisata.com untuk informasi paket dan harga\"\n",
    "file_name = \"kunci_jawaban_1\"\n",
    "dir_ = \"kunci_jawaban\"\n",
    "\n",
    "data = pd.read_excel(dir_+\"/\"+file_name+\".xlsx\")\n",
    "data = sc.seleksi_kunci_jawaban(data)\n",
    "kuncijawaban_list = data[\"kunci_jawaban\"]\n",
    "skor_list = data[\"skor\"]\n",
    "keterangan = data[\"keterangan\"]\n",
    "pd.DataFrame.from_dict(data).head()"
   ]
  },
  {
   "cell_type": "code",
   "execution_count": 29,
   "metadata": {},
   "outputs": [],
   "source": [
    "# print(\"cosine\")\n",
    "# hasil = sc.scoring_cosine(j,kuncijawaban_list,skor_list,keterangan)\n",
    "# #[skor, ket, similarity, tr, sorted_]\n",
    "# #    0     1         2    3       4\n",
    "# print(\" skor       :\",hasil[0], \"\\n qualifikasi:\",hasil[1], \"\\n similarity :\",hasil[2], \"\\n status     :\",hasil[3])"
   ]
  },
  {
   "cell_type": "markdown",
   "metadata": {},
   "source": [
    "# Implementasi"
   ]
  },
  {
   "cell_type": "code",
   "execution_count": 23,
   "metadata": {},
   "outputs": [
    {
     "name": "stdout",
     "output_type": "stream",
     "text": [
      "TF.TF.TF.TF.TF.TF.TF.TF.TF.TF.TF.TF.TF.TF.TF.TF.TF.TF.TF.TF.TF.TF.TF.TF.TF.TF.TF.TF.TF.TF.TF.TF.TF.TF.TF.TF.TF.TF.TF.TF.TF.TF.TF.TF.TF.TF.TF.TF.TF.TF.TF.TF.TF.TF.TF.TF.TF.TF.TF.TF.TF.TF.TF.TF.TF.TF.TF.TF.TF.TF.TF.TF..TF.TF.TF.TF.TF.TF.TF.TF.TF.TF.TF.TF.TF.TF.TF.TF.TF.TF.TF.TF.TF.TF.TF.TF.TF.TF.TF.TF.TF.TF.TF.TF.TF.TF.TF.TF.TF.TF.TF.TF.TF.TF.TF.TF.TF.TF.TF.TF.TF.TF.TF.TF.TF.TF.TF.TF.TF.TF.TF.TF.TF.TF.TF.TF.TF.TF.TF.TF.TF.TF.TF.TF..TF.TF.TF.TF.TF.TF.TF.TF.TF.TF.TF.TF.TF.TF.TF.TF.TF.TF.TF.TF.TF.TF.TF.TF.TF.TF.TF.TF.TF.TF.TF.TF.TF.TF.TF.TF.TF.TF.TF.TF.TF.TF.TF.TF.TF.TF.TF.TF.TF.TF.TF.TF.TF.TF.TF.TF.TF.TF.TF.TF.TF.TF.TF.TF.TF.TF.TF.TF.TF.TF.TF.TF..TF.TF.TF.TF.TF.TF.TF.TF.TF.TF.TF.TF.TF.TF.TF.TF.TF.TF.TF.TF.TF.TF.TF.TF.TF.TF.TF.TF.TF.TF.TF.TF.TF.TF.TF.TF.TF.TF.TF.TF.TF.TF.TF.TF.TF.TF.TF.TF.TF.TF.TF.TF.TF.TF.TF.TF.TF.TF.TF.TF.TF.TF.TF.TF.TF.TF.TF.TF.TF.TF.TF.TF..TF.TF.TF.TF.TF.TF.TF.TF.TF.TF.TF.TF.TF.TF.TF.TF.TF.TF.TF.TF.TF.TF.TF.TF.TF.TF.TF.TF.TF.TF.TF.TF.TF.TF.TF.TF.TF.TF.TF.TF.TF.TF.TF.TF.TF.TF.TF.TF.TF.TF.TF.TF.TF.TF.TF.TF.TF.TF.TF.TF.TF.TF.TF.TF.TF.TF.TF.TF.TF.TF.TF.TF..TF.TF.TF.TF.TF.TF.TF.TF.TF.TF.TF.TF.TF.TF.TF.TF.TF.TF.TF.TF.TF.TF.TF.TF.TF.TF.TF.TF.TF.TF.TF.TF.TF.TF.TF.TF.TF.TF.TF.TF.TF.TF.TF.TF.TF.TF.TF.TF.TF.TF.TF.TF.TF.TF.TF.TF.TF.TF.TF.TF.TF.TF.TF.TF.TF.TF.TF.TF.TF.TF.TF.TF..TF.TF.TF.TF.TF.TF.TF.TF.TF.TF.TF.TF.TF.TF.TF.TF.TF.TF.TF.TF.TF.TF.TF.TF.TF.TF.TF.TF.TF.TF.TF.TF.TF.TF.TF.TF.TF.TF.TF.TF.TF.TF.TF.TF.TF.TF.TF.TF.TF.TF.TF.TF.TF.TF.TF.TF.TF.TF.TF.TF.TF.TF.TF.TF.TF.TF.TF.TF.TF.TF.TF.TF..TF.TF.TF.TF.TF.TF.TF.TF.TF.TF.TF.TF.TF.TF.TF.TF.TF.TF.TF.TF.TF.TF.TF.TF.TF.TF.TF.TF.TF.TF.TF.TF.TF.TF.TF.TF.TF.TF.TF.TF.TF.TF.TF.TF.TF.TF.TF.TF.TF.TF.TF.TF.TF.TF.TF.TF.TF.TF.TF.TF.TF.TF.TF.TF.TF.TF.TF.TF.TF.TF.TF.TF..TF.TF.TF.TF.TF.TF.TF.TF.TF.TF.TF.TF.TF.TF.TF.TF.TF.TF.TF.TF.TF.TF.TF.TF.TF.TF.TF.TF.TF.TF.TF.TF.TF.TF.TF.TF.TF.TF.TF.TF.TF.TF.TF.TF.TF.TF.TF.TF.TF.TF.TF.TF.TF.TF.TF.TF.TF.TF.TF.TF.TF.TF.TF.TF.TF.TF.TF.TF.TF.TF.TF.TF..TF.TF.TF.TF.TF.TF.TF.TF.TF.TF.TF.TF.TF.TF.TF.TF.TF.TF.TF.TF.TF.TF.TF.TF.TF.TF.TF.TF.TF.TF.TF.TF.TF.TF.TF.TF.TF.TF.TF.TF.TF.TF.TF.TF.TF.TF.TF.TF.TF.TF.TF.TF.TF.TF.TF.TF.TF.TF.TF.TF.TF.TF.TF.TF.TF.TF.TF.TF.TF.TF.TF.TF..TF.TF.TF.TF.TF.TF.TF.TF.TF.TF.TF.TF.TF.TF.TF.TF.TF.TF.TF.TF.TF.TF.TF.TF.TF.TF.TF.TF.TF.TF.TF.TF.TF.TF.TF.TF.TF.TF.TF.TF.TF.TF.TF.TF.TF.TF.TF.TF.TF.TF.TF.TF.TF.TF.TF.TF.TF.TF.TF.TF.TF.TF.TF.TF.TF.TF.TF.TF.TF.TF.TF.TF.10 TF.TF.TF.TF.TF.TF.TF.TF.TF.TF.TF.TF.TF.TF.TF.TF.TF.TF.TF.TF.TF.TF.TF.TF.TF.TF.TF.TF.TF.TF.TF.TF.TF.TF.TF.TF.TF.TF.TF.TF.TF.TF.TF.TF.TF.TF.TF.TF.TF.TF.TF.TF.TF.TF.TF.TF.TF.TF.TF.TF.TF.TF.TF.TF.TF.TF.TF.TF.TF.TF.TF.TF..TF.TF.TF.TF.TF.TF.TF.TF.TF.TF.TF.TF.TF.TF.TF.TF.TF.TF.TF.TF.TF.TF.TF.TF.TF.TF.TF.TF.TF.TF.TF.TF.TF.TF.TF.TF.TF.TF.TF.TF.TF.TF.TF.TF.TF.TF.TF.TF.TF.TF.TF.TF.TF.TF.TF.TF.TF.TF.TF.TF.TF.TF.TF.TF.TF.TF.TF.TF.TF.TF.TF.TF..TF.TF.TF.TF.TF.TF.TF.TF.TF.TF.TF.TF.TF.TF.TF.TF.TF.TF.TF.TF.TF.TF.TF.TF.TF.TF.TF.TF.TF.TF.TF.TF.TF.TF.TF.TF.TF.TF.TF.TF.TF.TF.TF.TF.TF.TF.TF.TF.TF.TF.TF.TF.TF.TF.TF.TF.TF.TF.TF.TF.TF.TF.TF.TF.TF.TF.TF.TF.TF.TF.TF.TF..TF.TF.TF.TF.TF.TF.TF.TF.TF.TF.TF.TF.TF.TF.TF.TF.TF.TF.TF.TF.TF.TF.TF.TF.TF.TF.TF.TF.TF.TF.TF.TF.TF.TF.TF.TF.TF.TF.TF.TF.TF.TF.TF.TF.TF.TF.TF.TF.TF.TF.TF.TF.TF.TF.TF.TF.TF.TF.TF.TF.TF.TF.TF.TF.TF.TF.TF.TF.TF.TF.TF.TF..TF.TF.TF.TF.TF.TF.TF.TF.TF.TF.TF.TF.TF.TF.TF.TF.TF.TF.TF.TF.TF.TF.TF.TF.TF.TF.TF.TF.TF.TF.TF.TF.TF.TF.TF.TF.TF.TF.TF.TF.TF.TF.TF.TF.TF.TF.TF.TF.TF.TF.TF.TF.TF.TF.TF.TF.TF.TF.TF.TF.TF.TF.TF.TF.TF.TF.TF.TF.TF.TF.TF.TF..TF.TF.TF.TF.TF.TF.TF.TF.TF.TF.TF.TF.TF.TF.TF.TF.TF.TF.TF.TF.TF.TF.TF.TF.TF.TF.TF.TF.TF.TF.TF.TF.TF.TF.TF.TF.TF.TF.TF.TF.TF.TF.TF.TF.TF.TF.TF.TF.TF.TF.TF.TF.TF.TF.TF.TF.TF.TF.TF.TF.TF.TF.TF.TF.TF.TF.TF.TF.TF.TF.TF.TF..TF.TF.TF.TF.TF.TF.TF.TF.TF.TF.TF.TF.TF.TF.TF.TF.TF.TF.TF.TF.TF.TF.TF.TF.TF.TF.TF.TF.TF.TF.TF.TF.TF.TF.TF.TF.TF.TF.TF.TF.TF.TF.TF.TF.TF.TF.TF.TF.TF.TF.TF.TF.TF.TF.TF.TF.TF.TF.TF.TF.TF.TF.TF.TF.TF.TF.TF.TF.TF.TF.TF.TF..TF.TF.TF.TF.TF.TF.TF.TF.TF.TF.TF.TF.TF.TF.TF.TF.TF.TF.TF.TF.TF.TF.TF.TF.TF.TF.TF.TF.TF.TF.TF.TF.TF.TF.TF.TF.TF.TF.TF.TF.TF.TF.TF.TF.TF.TF.TF.TF.TF.TF.TF.TF.TF.TF.TF.TF.TF.TF.TF.TF.TF.TF.TF.TF.TF.TF.TF.TF.TF.TF.TF.TF..TF.TF.TF.TF.TF.TF.TF.TF.TF.TF.TF.TF.TF.TF.TF.TF.TF.TF.TF.TF.TF.TF.TF.TF.TF.TF.TF.TF.TF.TF.TF.TF.TF.TF.TF.TF.TF.TF.TF.TF.TF.TF.TF.TF.TF.TF.TF.TF.TF.TF.TF.TF.TF.TF.TF.TF.TF.TF.TF.TF.TF.TF.TF.TF.TF.TF.TF.TF.TF.TF.TF.TF..TF.TF.TF.TF.TF.TF.TF.TF.TF.TF.TF.TF.TF.TF.TF.TF.TF.TF.TF.TF.TF.TF.TF.TF.TF.TF.TF.TF.TF.TF.TF.TF.TF.TF.TF.TF.TF.TF.TF.TF.TF.TF.TF.TF.TF.TF.TF.TF.TF.TF.TF.TF.TF.TF.TF.TF.TF.TF.TF.TF.TF.TF.TF.TF.TF.TF.TF.TF.TF.TF.TF.TF.20 TF.TF.TF.TF.TF.TF.TF.TF.TF.TF.TF.TF.TF.TF.TF.TF.TF.TF.TF.TF.TF.TF.TF.TF.TF.TF.TF.TF.TF.TF.TF.TF.TF.TF.TF.TF.TF.TF.TF.TF.TF.TF.TF.TF.TF.TF.TF.TF.TF.TF.TF.TF.TF.TF.TF.TF.TF.TF.TF.TF.TF.TF.TF.TF.TF.TF.TF.TF.TF.TF.TF.TF..TF.TF.TF.TF.TF.TF.TF.TF.TF.TF.TF.TF.TF.TF.TF.TF.TF.TF.TF.TF.TF.TF.TF.TF.TF.TF.TF.TF.TF.TF.TF.TF.TF.TF.TF.TF.TF.TF.TF.TF.TF.TF.TF.TF.TF.TF.TF.TF.TF.TF.TF.TF.TF.TF.TF.TF.TF.TF.TF.TF.TF.TF.TF.TF.TF.TF.TF.TF.TF.TF.TF.TF..TF.TF.TF.TF.TF.TF.TF.TF.TF.TF.TF.TF.TF.TF.TF.TF.TF.TF.TF.TF.TF.TF.TF.TF.TF.TF.TF.TF.TF.TF.TF.TF.TF.TF.TF.TF.TF.TF.TF.TF.TF.TF.TF.TF.TF.TF.TF.TF.TF.TF.TF.TF.TF.TF.TF.TF.TF.TF.TF.TF.TF.TF.TF.TF.TF.TF.TF.TF.TF.TF.TF.TF..TF.TF.TF.TF.TF.TF.TF.TF.TF.TF.TF.TF.TF.TF.TF.TF.TF.TF.TF.TF.TF.TF.TF.TF.TF.TF.TF.TF.TF.TF.TF.TF.TF.TF.TF.TF.TF.TF.TF.TF.TF.TF.TF.TF.TF.TF.TF.TF.TF.TF.TF.TF.TF.TF.TF.TF.TF.TF.TF.TF.TF.TF.TF.TF.TF.TF.TF.TF.TF.TF.TF.TF..TF.TF.TF.TF.TF.TF.TF.TF.TF.TF.TF.TF.TF.TF.TF.TF.TF.TF.TF.TF.TF.TF.TF.TF.TF.TF.TF.TF.TF.TF.TF.TF.TF.TF.TF.TF.TF.TF.TF.TF.TF.TF.TF.TF.TF.TF.TF.TF.TF.TF.TF.TF.TF.TF.TF.TF.TF.TF.TF.TF.TF.TF.TF.TF.TF.TF.TF.TF.TF.TF.TF.TF..TF.TF.TF.TF.TF.TF.TF.TF.TF.TF.TF.TF.TF.TF.TF.TF.TF.TF.TF.TF.TF.TF.TF.TF.TF.TF.TF.TF.TF.TF.TF.TF.TF.TF.TF.TF.TF.TF.TF.TF.TF.TF.TF.TF.TF.TF.TF.TF.TF.TF.TF.TF.TF.TF.TF.TF.TF.TF.TF.TF.TF.TF.TF.TF.TF.TF.TF.TF.TF.TF.TF.TF..TF.TF.TF.TF.TF.TF.TF.TF.TF.TF.TF.TF.TF.TF.TF.TF.TF.TF.TF.TF.TF.TF.TF.TF.TF.TF.TF.TF.TF.TF.TF.TF.TF.TF.TF.TF.TF.TF.TF.TF.TF.TF.TF.TF.TF.TF.TF.TF.TF.TF.TF.TF.TF.TF.TF.TF.TF.TF.TF.TF.TF.TF.TF.TF.TF.TF.TF.TF.TF.TF.TF.TF..TF.TF.TF.TF.TF.TF.TF.TF.TF.TF.TF.TF.TF.TF.TF.TF.TF.TF.TF.TF.TF.TF.TF.TF.TF.TF.TF.TF.TF.TF.TF.TF.TF.TF.TF.TF.TF.TF.TF.TF.TF.TF.TF.TF.TF.TF.TF.TF.TF.TF.TF.TF.TF.TF.TF.TF.TF.TF.TF.TF.TF.TF.TF.TF.TF.TF.TF.TF.TF.TF.TF.TF..TF.TF.TF.TF.TF.TF.TF.TF.TF.TF.TF.TF.TF.TF.TF.TF.TF.TF.TF.TF.TF.TF.TF.TF.TF.TF.TF.TF.TF.TF.TF.TF.TF.TF.TF.TF.TF.TF.TF.TF.TF.TF.TF.TF.TF.TF.TF.TF.TF.TF.TF.TF.TF.TF.TF.TF.TF.TF.TF.TF.TF.TF.TF.TF.TF.TF.TF.TF.TF.TF.TF.TF..TF.TF.TF.TF.TF.TF.TF.TF.TF.TF.TF.TF.TF.TF.TF.TF.TF.TF.TF.TF.TF.TF.TF.TF.TF.TF.TF.TF.TF.TF.TF.TF.TF.TF.TF.TF.TF.TF.TF.TF.TF.TF.TF.TF.TF.TF.TF.TF.TF.TF.TF.TF.TF.TF.TF.TF.TF.TF.TF.TF.TF.TF.TF.TF.TF.TF.TF.TF.TF.TF.TF.TF.30 TF.TF.TF.TF.TF.TF.TF.TF.TF.TF.TF.TF.TF.TF.TF.TF.TF.TF.TF.TF.TF.TF.TF.TF.TF.TF.TF.TF.TF.TF.TF.TF.TF.TF.TF.TF.TF.TF.TF.TF.TF.TF.TF.TF.TF.TF.TF.TF.TF.TF.TF.TF.TF.TF.TF.TF.TF.TF.TF.TF.TF.TF.TF.TF.TF.TF.TF.TF.TF.TF.TF.TF..TF.TF.TF.TF.TF.TF.TF.TF.TF.TF.TF.TF.TF.TF.TF.TF.TF.TF.TF.TF.TF.TF.TF.TF.TF.TF.TF.TF.TF.TF.TF.TF.TF.TF.TF.TF.TF.TF.TF.TF.TF.TF.TF.TF.TF.TF.TF.TF.TF.TF.TF.TF.TF.TF.TF.TF.TF.TF.TF.TF.TF.TF.TF.TF.TF.TF.TF.TF.TF.TF.TF.TF..TF.TF.TF.TF.TF.TF.TF.TF.TF.TF.TF.TF.TF.TF.TF.TF.TF.TF.TF.TF.TF.TF.TF.TF.TF.TF.TF.TF.TF.TF.TF.TF.TF.TF.TF.TF.TF.TF.TF.TF.TF.TF.TF.TF.TF.TF.TF.TF.TF.TF.TF.TF.TF.TF.TF.TF.TF.TF.TF.TF.TF.TF.TF.TF.TF.TF.TF.TF.TF.TF.TF.TF..TF.TF.TF.TF.TF.TF.TF.TF.TF.TF.TF.TF.TF.TF.TF.TF.TF.TF.TF.TF.TF.TF.TF.TF.TF.TF.TF.TF.TF.TF.TF.TF.TF.TF.TF.TF.TF.TF.TF.TF.TF.TF.TF.TF.TF.TF.TF.TF.TF.TF.TF.TF.TF.TF.TF.TF.TF.TF.TF.TF.TF.TF.TF.TF.TF.TF.TF.TF.TF.TF.TF.TF..TF.TF.TF.TF.TF.TF.TF.TF.TF.TF.TF.TF.TF.TF.TF.TF.TF.TF.TF.TF.TF.TF.TF.TF.TF.TF.TF.TF.TF.TF.TF.TF.TF.TF.TF.TF.TF.TF.TF.TF.TF.TF.TF.TF.TF.TF.TF.TF.TF.TF.TF.TF.TF.TF.TF.TF.TF.TF.TF.TF.TF.TF.TF.TF.TF.TF.TF.TF.TF.TF.TF.TF..TF.TF.TF.TF.TF.TF.TF.TF.TF.TF.TF.TF.TF.TF.TF.TF.TF.TF.TF.TF.TF.TF.TF.TF.TF.TF.TF.TF.TF.TF.TF.TF.TF.TF.TF.TF.TF.TF.TF.TF.TF.TF.TF.TF.TF.TF.TF.TF.TF.TF.TF.TF.TF.TF.TF.TF.TF.TF.TF.TF.TF.TF.TF.TF.TF.TF.TF.TF.TF.TF.TF.TF..TF.TF.TF.TF.TF.TF.TF.TF.TF.TF.TF.TF.TF.TF.TF.TF.TF.TF.TF.TF.TF.TF.TF.TF.TF.TF.TF.TF.TF.TF.TF.TF.TF.TF.TF.TF.TF.TF.TF.TF.TF.TF.TF.TF.TF.TF.TF.TF.TF.TF.TF.TF.TF.TF.TF.TF."
     ]
    },
    {
     "name": "stdout",
     "output_type": "stream",
     "text": [
      "TF.TF.TF.TF.TF.TF.TF.TF.TF.TF.TF.TF.TF.TF.TF.TF..TF.TF.TF.TF.TF.TF.TF.TF.TF.TF.TF.TF.TF.TF.TF.TF.TF.TF.TF.TF.TF.TF.TF.TF.TF.TF.TF.TF.TF.TF.TF.TF.TF.TF.TF.TF.TF.TF.TF.TF.TF.TF.TF.TF.TF.TF.TF.TF.TF.TF.TF.TF.TF.TF.TF.TF.TF.TF.TF.TF.TF.TF.TF.TF.TF.TF.TF.TF.TF.TF.TF.TF..TF.TF.TF.TF.TF.TF.TF.TF.TF.TF.TF.TF.TF.TF.TF.TF.TF.TF.TF.TF.TF.TF.TF.TF.TF.TF.TF.TF.TF.TF.TF.TF.TF.TF.TF.TF.TF.TF.TF.TF.TF.TF.TF.TF.TF.TF.TF.TF.TF.TF.TF.TF.TF.TF.TF.TF.TF.TF.TF.TF.TF.TF.TF.TF.TF.TF.TF.TF.TF.TF.TF.TF..TF.TF.TF.TF.TF.TF.TF.TF.TF.TF.TF.TF.TF.TF.TF.TF.TF.TF.TF.TF.TF.TF.TF.TF.TF.TF.TF.TF.TF.TF.TF.TF.TF.TF.TF.TF.TF.TF.TF.TF.TF.TF.TF.TF.TF.TF.TF.TF.TF.TF.TF.TF.TF.TF.TF.TF.TF.TF.TF.TF.TF.TF.TF.TF.TF.TF.TF.TF.TF.TF.TF.TF.40 TF.TF.TF.TF.TF.TF.TF.TF.TF.TF.TF.TF.TF.TF.TF.TF.TF.TF.TF.TF.TF.TF.TF.TF.TF.TF.TF.TF.TF.TF.TF.TF.TF.TF.TF.TF.TF.TF.TF.TF.TF.TF.TF.TF.TF.TF.TF.TF.TF.TF.TF.TF.TF.TF.TF.TF.TF.TF.TF.TF.TF.TF.TF.TF.TF.TF.TF.TF.TF.TF.TF.TF..TF.TF.TF.TF.TF.TF.TF.TF.TF.TF.TF.TF.TF.TF.TF.TF.TF.TF.TF.TF.TF.TF.TF.TF.TF.TF.TF.TF.TF.TF.TF.TF.TF.TF.TF.TF.TF.TF.TF.TF.TF.TF.TF.TF.TF.TF.TF.TF.TF.TF.TF.TF.TF.TF.TF.TF.TF.TF.TF.TF.TF.TF.TF.TF.TF.TF.TF.TF.TF.TF.TF.TF..TF.TF.TF.TF.TF.TF.TF.TF.TF.TF.TF.TF.TF.TF.TF.TF.TF.TF.TF.TF.TF.TF.TF.TF.TF.TF.TF.TF.TF.TF.TF.TF.TF.TF.TF.TF.TF.TF.TF.TF.TF.TF.TF.TF.TF.TF.TF.TF.TF.TF.TF.TF.TF.TF.TF.TF.TF.TF.TF.TF.TF.TF.TF.TF.TF.TF.TF.TF.TF.TF.TF.TF..TF.TF.TF.TF.TF.TF.TF.TF.TF.TF.TF.TF.TF.TF.TF.TF.TF.TF.TF.TF.TF.TF.TF.TF.TF.TF.TF.TF.TF.TF.TF.TF.TF.TF.TF.TF.TF.TF.TF.TF.TF.TF.TF.TF.TF.TF.TF.TF.TF.TF.TF.TF.TF.TF.TF.TF.TF.TF.TF.TF.TF.TF.TF.TF.TF.TF.TF.TF.TF.TF.TF.TF..TF.TF.TF.TF.TF.TF.TF.TF.TF.TF.TF.TF.TF.TF.TF.TF.TF.TF.TF.TF.TF.TF.TF.TF.TF.TF.TF.TF.TF.TF.TF.TF.TF.TF.TF.TF.TF.TF.TF.TF.TF.TF.TF.TF.TF.TF.TF.TF.TF.TF.TF.TF.TF.TF.TF.TF.TF.TF.TF.TF.TF.TF.TF.TF.TF.TF.TF.TF.TF.TF.TF.TF..TF.TF.TF.TF.TF.TF.TF.TF.TF.TF.TF.TF.TF.TF.TF.TF.TF.TF.TF.TF.TF.TF.TF.TF.TF.TF.TF.TF.TF.TF.TF.TF.TF.TF.TF.TF.TF.TF.TF.TF.TF.TF.TF.TF.TF.TF.TF.TF.TF.TF.TF.TF.TF.TF.TF.TF.TF.TF.TF.TF.TF.TF.TF.TF.TF.TF.TF.TF.TF.TF.TF.TF..TF.TF.TF.TF.TF.TF.TF.TF.TF.TF.TF.TF.TF.TF.TF.TF.TF.TF.TF.TF.TF.TF.TF.TF.TF.TF.TF.TF.TF.TF.TF.TF.TF.TF.TF.TF.TF.TF.TF.TF.TF.TF.TF.TF.TF.TF.TF.TF.TF.TF.TF.TF.TF.TF.TF.TF.TF.TF.TF.TF.TF.TF.TF.TF.TF.TF.TF.TF.TF.TF.TF.TF..TF.TF.TF.TF.TF.TF.TF.TF.TF.TF.TF.TF.TF.TF.TF.TF.TF.TF.TF.TF.TF.TF.TF.TF.TF.TF.TF.TF.TF.TF.TF.TF.TF.TF.TF.TF.TF.TF.TF.TF.TF.TF.TF.TF.TF.TF.TF.TF.TF.TF.TF.TF.TF.TF.TF.TF.TF.TF.TF.TF.TF.TF.TF.TF.TF.TF.TF.TF.TF.TF.TF.TF..TF.TF.TF.TF.TF.TF.TF.TF.TF.TF.TF.TF.TF.TF.TF.TF.TF.TF.TF.TF.TF.TF.TF.TF.TF.TF.TF.TF.TF.TF.TF.TF.TF.TF.TF.TF.TF.TF.TF.TF.TF.TF.TF.TF.TF.TF.TF.TF.TF.TF.TF.TF.TF.TF.TF.TF.TF.TF.TF.TF.TF.TF.TF.TF.TF.TF.TF.TF.TF.TF.TF.TF..TF.TF.TF.TF.TF.TF.TF.TF.TF.TF.TF.TF.TF.TF.TF.TF.TF.TF.TF.TF.TF.TF.TF.TF.TF.TF.TF.TF.TF.TF.TF.TF.TF.TF.TF.TF.TF.TF.TF.TF.TF.TF.TF.TF.TF.TF.TF.TF.TF.TF.TF.TF.TF.TF.TF.TF.TF.TF.TF.TF.TF.TF.TF.TF.TF.TF.TF.TF.TF.TF.TF.TF.50 TF.TF.TF.TF.TF.TF.TF.TF.TF.TF.TF.TF.TF.TF.TF.TF.TF.TF.TF.TF.TF.TF.TF.TF.TF.TF.TF.TF.TF.TF.TF.TF.TF.TF.TF.TF.TF.TF.TF.TF.TF.TF.TF.TF.TF.TF.TF.TF.TF.TF.TF.TF.TF.TF.TF.TF.TF.TF.TF.TF.TF.TF.TF.TF.TF.TF.TF.TF.TF.TF.TF.TF..TF.TF.TF.TF.TF.TF.TF.TF.TF.TF.TF.TF.TF.TF.TF.TF.TF.TF.TF.TF.TF.TF.TF.TF.TF.TF.TF.TF.TF.TF.TF.TF.TF.TF.TF.TF.TF.TF.TF.TF.TF.TF.TF.TF.TF.TF.TF.TF.TF.TF.TF.TF.TF.TF.TF.TF.TF.TF.TF.TF.TF.TF.TF.TF.TF.TF.TF.TF.TF.TF.TF.TF..TF.TF.TF.TF.TF.TF.TF.TF.TF.TF.TF.TF.TF.TF.TF.TF.TF.TF.TF.TF.TF.TF.TF.TF.TF.TF.TF.TF.TF.TF.TF.TF.TF.TF.TF.TF.TF.TF.TF.TF.TF.TF.TF.TF.TF.TF.TF.TF.TF.TF.TF.TF.TF.TF.TF.TF.TF.TF.TF.TF.TF.TF.TF.TF.TF.TF.TF.TF.TF.TF.TF.TF..TF.TF.TF.TF.TF.TF.TF.TF.TF.TF.TF.TF.TF.TF.TF.TF.TF.TF.TF.TF.TF.TF.TF.TF.TF.TF.TF.TF.TF.TF.TF.TF.TF.TF.TF.TF.TF.TF.TF.TF.TF.TF.TF.TF.TF.TF.TF.TF.TF.TF.TF.TF.TF.TF.TF.TF.TF.TF.TF.TF.TF.TF.TF.TF.TF.TF.TF.TF.TF.TF.TF.TF..TF.TF.TF.TF.TF.TF.TF.TF.TF.TF.TF.TF.TF.TF.TF.TF.TF.TF.TF.TF.TF.TF.TF.TF.TF.TF.TF.TF.TF.TF.TF.TF.TF.TF.TF.TF.TF.TF.TF.TF.TF.TF.TF.TF.TF.TF.TF.TF.TF.TF.TF.TF.TF.TF.TF.TF.TF.TF.TF.TF.TF.TF.TF.TF.TF.TF.TF.TF.TF.TF.TF.TF..TF.TF.TF.TF.TF.TF.TF.TF.TF.TF.TF.TF.TF.TF.TF.TF.TF.TF.TF.TF.TF.TF.TF.TF.TF.TF.TF.TF.TF.TF.TF.TF.TF.TF.TF.TF.TF.TF.TF.TF.TF.TF.TF.TF.TF.TF.TF.TF.TF.TF.TF.TF.TF.TF.TF.TF.TF.TF.TF.TF.TF.TF.TF.TF.TF.TF.TF.TF.TF.TF.TF.TF..TF.TF.TF.TF.TF.TF.TF.TF.TF.TF.TF.TF.TF.TF.TF.TF.TF.TF.TF.TF.TF.TF.TF.TF.TF.TF.TF.TF.TF.TF.TF.TF.TF.TF.TF.TF.TF.TF.TF.TF.TF.TF.TF.TF.TF.TF.TF.TF.TF.TF.TF.TF.TF.TF.TF.TF.TF.TF.TF.TF.TF.TF.TF.TF.TF.TF.TF.TF.TF.TF.TF.TF..TF.TF.TF.TF.TF.TF.TF.TF.TF.TF.TF.TF.TF.TF.TF.TF.TF.TF.TF.TF.TF.TF.TF.TF.TF.TF.TF.TF.TF.TF.TF.TF.TF.TF.TF.TF.TF.TF.TF.TF.TF.TF.TF.TF.TF.TF.TF.TF.TF.TF.TF.TF.TF.TF.TF.TF.TF.TF.TF.TF.TF.TF.TF.TF.TF.TF.TF.TF.TF.TF.TF.TF..TF.TF.TF.TF.TF.TF.TF.TF.TF.TF.TF.TF.TF.TF.TF.TF.TF.TF.TF.TF.TF.TF.TF.TF.TF.TF.TF.TF.TF.TF.TF.TF.TF.TF.TF.TF.TF.TF.TF.TF.TF.TF.TF.TF.TF.TF.TF.TF.TF.TF.TF.TF.TF.TF.TF.TF.TF.TF.TF.TF.TF.TF.TF.TF.TF.TF.TF.TF.TF.TF.TF.TF..TF.TF.TF.TF.TF.TF.TF.TF.TF.TF.TF.TF.TF.TF.TF.TF.TF.TF.TF.TF.TF.TF.TF.TF.TF.TF.TF.TF.TF.TF.TF.TF.TF.TF.TF.TF.TF.TF.TF.TF.TF.TF.TF.TF.TF.TF.TF.TF.TF.TF.TF.TF.TF.TF.TF.TF.TF.TF.TF.TF.TF.TF.TF.TF.TF.TF.TF.TF.TF.TF.TF.TF.60 TF.TF.TF.TF.TF.TF.TF.TF.TF.TF.TF.TF.TF.TF.TF.TF.TF.TF.TF.TF.TF.TF.TF.TF.TF.TF.TF.TF.TF.TF.TF.TF.TF.TF.TF.TF.TF.TF.TF.TF.TF.TF.TF.TF.TF.TF.TF.TF.TF.TF.TF.TF.TF.TF.TF.TF.TF.TF.TF.TF.TF.TF.TF.TF.TF.TF.TF.TF.TF.TF.TF.TF..TF.TF.TF.TF.TF.TF.TF.TF.TF.TF.TF.TF.TF.TF.TF.TF.TF.TF.TF.TF.TF.TF.TF.TF.TF.TF.TF.TF.TF.TF.TF.TF.TF.TF.TF.TF.TF.TF.TF.TF.TF.TF.TF.TF.TF.TF.TF.TF.TF.TF.TF.TF.TF.TF.TF.TF.TF.TF.TF.TF.TF.TF.TF.TF.TF.TF.TF.TF.TF.TF.TF.TF..TF.TF.TF.TF.TF.TF.TF.TF.TF.TF.TF.TF.TF.TF.TF.TF.TF.TF.TF.TF.TF.TF.TF.TF.TF.TF.TF.TF.TF.TF.TF.TF.TF.TF.TF.TF.TF.TF.TF.TF.TF.TF.TF.TF.TF.TF.TF.TF.TF.TF.TF.TF.TF.TF.TF.TF.TF.TF.TF.TF.TF.TF.TF.TF.TF.TF.TF.TF.TF.TF.TF.TF..TF.TF.TF.TF.TF.TF.TF.TF.TF.TF.TF.TF.TF.TF.TF.TF.TF.TF.TF.TF.TF.TF.TF.TF.TF.TF.TF.TF.TF.TF.TF.TF.TF.TF.TF.TF.TF.TF.TF.TF.TF.TF.TF.TF.TF.TF.TF.TF.TF.TF.TF.TF.TF.TF.TF.TF.TF.TF.TF.TF.TF.TF.TF.TF.TF.TF.TF.TF.TF.TF.TF.TF..TF.TF.TF.TF.TF.TF.TF.TF.TF.TF.TF.TF.TF.TF.TF.TF.TF.TF.TF.TF.TF.TF.TF.TF.TF.TF.TF.TF.TF.TF.TF.TF.TF.TF.TF.TF.TF.TF.TF.TF.TF.TF.TF.TF.TF.TF.TF.TF.TF.TF.TF.TF.TF.TF.TF.TF.TF.TF.TF.TF.TF.TF.TF.TF.TF.TF.TF.TF.TF.TF.TF.TF..TF.TF.TF.TF.TF.TF.TF.TF.TF.TF.TF.TF.TF.TF.TF.TF.TF.TF.TF.TF.TF.TF.TF.TF.TF.TF.TF.TF.TF.TF.TF.TF.TF.TF.TF.TF.TF.TF.TF.TF.TF.TF.TF.TF.TF.TF.TF.TF.TF.TF.TF.TF.TF.TF.TF.TF.TF.TF.TF.TF.TF.TF.TF.TF.TF.TF.TF.TF.TF.TF.TF.TF..TF.TF.TF.TF.TF.TF.TF.TF.TF.TF.TF.TF.TF.TF.TF.TF.TF.TF.TF.TF.TF.TF.TF.TF.TF.TF.TF.TF.TF.TF.TF.TF.TF.TF.TF.TF.TF.TF.TF.TF.TF.TF.TF.TF.TF.TF.TF.TF.TF.TF.TF.TF.TF.TF.TF.TF.TF.TF.TF.TF.TF.TF.TF.TF.TF.TF.TF.TF.TF.TF.TF.TF..TF.TF.TF.TF.TF.TF.TF.TF.TF.TF.TF.TF.TF.TF.TF.TF.TF.TF.TF.TF.TF.TF.TF.TF.TF.TF.TF.TF.TF.TF.TF.TF.TF.TF.TF.TF.TF.TF.TF.TF.TF.TF.TF.TF.TF.TF.TF.TF.TF.TF.TF.TF.TF.TF.TF.TF.TF.TF.TF.TF.TF.TF.TF.TF.TF.TF.TF.TF.TF.TF.TF.TF..TF.TF.TF.TF.TF.TF.TF.TF.TF.TF.TF.TF.TF.TF.TF.TF.TF.TF.TF.TF.TF.TF.TF.TF.TF.TF.TF.TF.TF.TF.TF.TF.TF.TF.TF.TF.TF.TF.TF.TF.TF.TF.TF.TF.TF.TF.TF.TF.TF.TF.TF.TF.TF.TF.TF.TF.TF.TF.TF.TF.TF.TF.TF.TF.TF.TF.TF.TF.TF.TF.TF.TF..TF.TF.TF.TF.TF.TF.TF.TF.TF.TF.TF.TF.TF.TF.TF.TF.TF.TF.TF.TF.TF.TF.TF.TF.TF.TF.TF.TF.TF.TF.TF.TF.TF.TF.TF.TF.TF.TF.TF.TF.TF.TF.TF.TF.TF.TF.TF.TF.TF.TF.TF.TF.TF.TF.TF.TF.TF.TF.TF.TF.TF.TF.TF.TF.TF.TF.TF.TF.TF.TF.TF.TF.70 TF.TF.TF.TF.TF.TF.TF.TF.TF.TF.TF.TF.TF.TF.TF.TF.TF.TF.TF.TF.TF.TF.TF.TF.TF.TF.TF.TF.TF.TF.TF.TF.TF.TF.TF.TF.TF.TF.TF.TF.TF.TF.TF.TF.TF.TF.TF.TF.TF.TF.TF.TF.TF.TF.TF.TF.TF.TF.TF.TF.TF.TF.TF.TF.TF.TF.TF.TF.TF.TF.TF.TF..TF.TF.TF.TF.TF.TF.TF.TF.TF.TF.TF.TF.TF.TF.TF.TF.TF.TF.TF.TF.TF.TF.TF.TF.TF.TF.TF.TF.TF.TF.TF.TF.TF.TF.TF.TF.TF.TF.TF.TF.TF.TF.TF.TF.TF.TF.TF.TF.TF.TF.TF.TF.TF.TF.TF.TF.TF.TF.TF.TF.TF.TF.TF.TF.TF.TF.TF.TF.TF.TF.TF.TF..TF.TF.TF.TF.TF.TF.TF.TF.TF.TF.TF.TF.TF.TF.TF.TF.TF.TF.TF.TF.TF.TF.TF.TF.TF.TF.TF.TF.TF.TF.TF.TF.TF.TF.TF.TF.TF.TF.TF.TF.TF.TF.TF.TF.TF.TF.TF.TF.TF.TF.TF.TF.TF.TF.TF.TF.TF.TF.TF.TF.TF.TF.TF.TF.TF.TF.TF.TF.TF.TF.TF.TF..TF.TF.TF.TF.TF.TF.TF.TF.TF.TF.TF.TF.TF.TF.TF.TF.TF.TF.TF.TF.TF.TF.TF.TF.TF.TF.TF.TF.TF.TF.TF.TF.TF.TF.TF.TF.TF.TF.TF.TF.TF.TF.TF.TF.TF.TF.TF.TF.TF.TF.TF.TF.TF.TF.TF.TF.TF.TF.TF.TF.TF.TF.TF.TF.TF.TF.TF.TF.TF.TF.TF.TF..TF.TF.TF.TF.TF.TF.TF.TF.TF.TF.TF.TF.TF.TF.TF.TF.TF.TF.TF.TF.TF.TF.TF.TF.TF.TF.TF.TF.TF.TF.TF.TF.TF.TF.TF.TF.TF.TF."
     ]
    },
    {
     "name": "stdout",
     "output_type": "stream",
     "text": [
      "TF.TF.TF.TF.TF.TF.TF.TF.TF.TF.TF.TF.TF.TF.TF.TF.TF.TF.TF.TF.TF.TF.TF.TF.TF.TF.TF.TF.TF.TF.TF.TF.TF.TF..TF.TF.TF.TF.TF.TF.TF.TF.TF.TF.TF.TF.TF.TF.TF.TF.TF.TF.TF.TF.TF.TF.TF.TF.TF.TF.TF.TF.TF.TF.TF.TF.TF.TF.TF.TF.TF.TF.TF.TF.TF.TF.TF.TF.TF.TF.TF.TF.TF.TF.TF.TF.TF.TF.TF.TF.TF.TF.TF.TF.TF.TF.TF.TF.TF.TF.TF.TF.TF.TF.TF.TF..TF.TF.TF.TF.TF.TF.TF.TF.TF.TF.TF.TF.TF.TF.TF.TF.TF.TF.TF.TF.TF.TF.TF.TF.TF.TF.TF.TF.TF.TF.TF.TF.TF.TF.TF.TF.TF.TF.TF.TF.TF.TF.TF.TF.TF.TF.TF.TF.TF.TF.TF.TF.TF.TF.TF.TF.TF.TF.TF.TF.TF.TF.TF.TF.TF.TF.TF.TF.TF.TF.TF.TF..TF.TF.TF.TF.TF.TF.TF.TF.TF.TF.TF.TF.TF.TF.TF.TF.TF.TF.TF.TF.TF.TF.TF.TF.TF.TF.TF.TF.TF.TF.TF.TF.TF.TF.TF.TF.TF.TF.TF.TF.TF.TF.TF.TF.TF.TF.TF.TF.TF.TF.TF.TF.TF.TF.TF.TF.TF.TF.TF.TF.TF.TF.TF.TF.TF.TF.TF.TF.TF.TF.TF.TF..TF.TF.TF.TF.TF.TF.TF.TF.TF.TF.TF.TF.TF.TF.TF.TF.TF.TF.TF.TF.TF.TF.TF.TF.TF.TF.TF.TF.TF.TF.TF.TF.TF.TF.TF.TF.TF.TF.TF.TF.TF.TF.TF.TF.TF.TF.TF.TF.TF.TF.TF.TF.TF.TF.TF.TF.TF.TF.TF.TF.TF.TF.TF.TF.TF.TF.TF.TF.TF.TF.TF.TF..TF.TF.TF.TF.TF.TF.TF.TF.TF.TF.TF.TF.TF.TF.TF.TF.TF.TF.TF.TF.TF.TF.TF.TF.TF.TF.TF.TF.TF.TF.TF.TF.TF.TF.TF.TF.TF.TF.TF.TF.TF.TF.TF.TF.TF.TF.TF.TF.TF.TF.TF.TF.TF.TF.TF.TF.TF.TF.TF.TF.TF.TF.TF.TF.TF.TF.TF.TF.TF.TF.TF.TF.80 TF.TF.TF.TF.TF.TF.TF.TF.TF.TF.TF.TF.TF.TF.TF.TF.TF.TF.TF.TF.TF.TF.TF.TF.TF.TF.TF.TF.TF.TF.TF.TF.TF.TF.TF.TF.TF.TF.TF.TF.TF.TF.TF.TF.TF.TF.TF.TF.TF.TF.TF.TF.TF.TF.TF.TF.TF.TF.TF.TF.TF.TF.TF.TF.TF.TF.TF.TF.TF.TF.TF.TF..TF.TF.TF.TF.TF.TF.TF.TF.TF.TF.TF.TF.TF.TF.TF.TF.TF.TF.TF.TF.TF.TF.TF.TF.TF.TF.TF.TF.TF.TF.TF.TF.TF.TF.TF.TF.TF.TF.TF.TF.TF.TF.TF.TF.TF.TF.TF.TF.TF.TF.TF.TF.TF.TF.TF.TF.TF.TF.TF.TF.TF.TF.TF.TF.TF.TF.TF.TF.TF.TF.TF.TF..TF.TF.TF.TF.TF.TF.TF.TF.TF.TF.TF.TF.TF.TF.TF.TF.TF.TF.TF.TF.TF.TF.TF.TF.TF.TF.TF.TF.TF.TF.TF.TF.TF.TF.TF.TF.TF.TF.TF.TF.TF.TF.TF.TF.TF.TF.TF.TF.TF.TF.TF.TF.TF.TF.TF.TF.TF.TF.TF.TF.TF.TF.TF.TF.TF.TF.TF.TF.TF.TF.TF.TF..TF.TF.TF.TF.TF.TF.TF.TF.TF.TF.TF.TF.TF.TF.TF.TF.TF.TF.TF.TF.TF.TF.TF.TF.TF.TF.TF.TF.TF.TF.TF.TF.TF.TF.TF.TF.TF.TF.TF.TF.TF.TF.TF.TF.TF.TF.TF.TF.TF.TF.TF.TF.TF.TF.TF.TF.TF.TF.TF.TF.TF.TF.TF.TF.TF.TF.TF.TF.TF.TF.TF.TF..TF.TF.TF.TF.TF.TF.TF.TF.TF.TF.TF.TF.TF.TF.TF.TF.TF.TF.TF.TF.TF.TF.TF.TF.TF.TF.TF.TF.TF.TF.TF.TF.TF.TF.TF.TF.TF.TF.TF.TF.TF.TF.TF.TF.TF.TF.TF.TF.TF.TF.TF.TF.TF.TF.TF.TF.TF.TF.TF.TF.TF.TF.TF.TF.TF.TF.TF.TF.TF.TF.TF.TF..TF.TF.TF.TF.TF.TF.TF.TF.TF.TF.TF.TF.TF.TF.TF.TF.TF.TF.TF.TF.TF.TF.TF.TF.TF.TF.TF.TF.TF.TF.TF.TF.TF.TF.TF.TF.TF.TF.TF.TF.TF.TF.TF.TF.TF.TF.TF.TF.TF.TF.TF.TF.TF.TF.TF.TF.TF.TF.TF.TF.TF.TF.TF.TF.TF.TF.TF.TF.TF.TF.TF.TF..TF.TF.TF.TF.TF.TF.TF.TF.TF.TF.TF.TF.TF.TF.TF.TF.TF.TF.TF.TF.TF.TF.TF.TF.TF.TF.TF.TF.TF.TF.TF.TF.TF.TF.TF.TF.TF.TF.TF.TF.TF.TF.TF.TF.TF.TF.TF.TF.TF.TF.TF.TF.TF.TF.TF.TF.TF.TF.TF.TF.TF.TF.TF.TF.TF.TF.TF.TF.TF.TF.TF.TF..TF.TF.TF.TF.TF.TF.TF.TF.TF.TF.TF.TF.TF.TF.TF.TF.TF.TF.TF.TF.TF.TF.TF.TF.TF.TF.TF.TF.TF.TF.TF.TF.TF.TF.TF.TF.TF.TF.TF.TF.TF.TF.TF.TF.TF.TF.TF.TF.TF.TF.TF.TF.TF.TF.TF.TF.TF.TF.TF.TF.TF.TF.TF.TF.TF.TF.TF.TF.TF.TF.TF.TF..TF.TF.TF.TF.TF.TF.TF.TF.TF.TF.TF.TF.TF.TF.TF.TF.TF.TF.TF.TF.TF.TF.TF.TF.TF.TF.TF.TF.TF.TF.TF.TF.TF.TF.TF.TF.TF.TF.TF.TF.TF.TF.TF.TF.TF.TF.TF.TF.TF.TF.TF.TF.TF.TF.TF.TF.TF.TF.TF.TF.TF.TF.TF.TF.TF.TF.TF.TF.TF.TF.TF.TF..TF.TF.TF.TF.TF.TF.TF.TF.TF.TF.TF.TF.TF.TF.TF.TF.TF.TF.TF.TF.TF.TF.TF.TF.TF.TF.TF.TF.TF.TF.TF.TF.TF.TF.TF.TF.TF.TF.TF.TF.TF.TF.TF.TF.TF.TF.TF.TF.TF.TF.TF.TF.TF.TF.TF.TF.TF.TF.TF.TF.TF.TF.TF.TF.TF.TF.TF.TF.TF.TF.TF.TF.90 TF.TF.TF.TF.TF.TF.TF.TF.TF.TF.TF.TF.TF.TF.TF.TF.TF.TF.TF.TF.TF.TF.TF.TF.TF.TF.TF.TF.TF.TF.TF.TF.TF.TF.TF.TF.TF.TF.TF.TF.TF.TF.TF.TF.TF.TF.TF.TF.TF.TF.TF.TF.TF.TF.TF.TF.TF.TF.TF.TF.TF.TF.TF.TF.TF.TF.TF.TF.TF.TF.TF.TF..TF.TF.TF.TF.TF.TF.TF.TF.TF.TF.TF.TF.TF.TF.TF.TF.TF.TF.TF.TF.TF.TF.TF.TF.TF.TF.TF.TF.TF.TF.TF.TF.TF.TF.TF.TF.TF.TF.TF.TF.TF.TF.TF.TF.TF.TF.TF.TF.TF.TF.TF.TF.TF.TF.TF.TF.TF.TF.TF.TF.TF.TF.TF.TF.TF.TF.TF.TF.TF.TF.TF.TF..TF.TF.TF.TF.TF.TF.TF.TF.TF.TF.TF.TF.TF.TF.TF.TF.TF.TF.TF.TF.TF.TF.TF.TF.TF.TF.TF.TF.TF.TF.TF.TF.TF.TF.TF.TF.TF.TF.TF.TF.TF.TF.TF.TF.TF.TF.TF.TF.TF.TF.TF.TF.TF.TF.TF.TF.TF.TF.TF.TF.TF.TF.TF.TF.TF.TF.TF.TF.TF.TF.TF.TF..TF.TF.TF.TF.TF.TF.TF.TF.TF.TF.TF.TF.TF.TF.TF.TF.TF.TF.TF.TF.TF.TF.TF.TF.TF.TF.TF.TF.TF.TF.TF.TF.TF.TF.TF.TF.TF.TF.TF.TF.TF.TF.TF.TF.TF.TF.TF.TF.TF.TF.TF.TF.TF.TF.TF.TF.TF.TF.TF.TF.TF.TF.TF.TF.TF.TF.TF.TF.TF.TF.TF.TF..TF.TF.TF.TF.TF.TF.TF.TF.TF.TF.TF.TF.TF.TF.TF.TF.TF.TF.TF.TF.TF.TF.TF.TF.TF.TF.TF.TF.TF.TF.TF.TF.TF.TF.TF.TF.TF.TF.TF.TF.TF.TF.TF.TF.TF.TF.TF.TF.TF.TF.TF.TF.TF.TF.TF.TF.TF.TF.TF.TF.TF.TF.TF.TF.TF.TF.TF.TF.TF.TF.TF.TF..TF.TF.TF.TF.TF.TF.TF.TF.TF.TF.TF.TF.TF.TF.TF.TF.TF.TF.TF.TF.TF.TF.TF.TF.TF.TF.TF.TF.TF.TF.TF.TF.TF.TF.TF.TF.TF.TF.TF.TF.TF.TF.TF.TF.TF.TF.TF.TF.TF.TF.TF.TF.TF.TF.TF.TF.TF.TF.TF.TF.TF.TF.TF.TF.TF.TF.TF.TF.TF.TF.TF.TF..TF.TF.TF.TF.TF.TF.TF.TF.TF.TF.TF.TF.TF.TF.TF.TF.TF.TF.TF.TF.TF.TF.TF.TF.TF.TF.TF.TF.TF.TF.TF.TF.TF.TF.TF.TF.TF.TF.TF.TF.TF.TF.TF.TF.TF.TF.TF.TF.TF.TF.TF.TF.TF.TF.TF.TF.TF.TF.TF.TF.TF.TF.TF.TF.TF.TF.TF.TF.TF.TF.TF.TF..TF.TF.TF.TF.TF.TF.TF.TF.TF.TF.TF.TF.TF.TF.TF.TF.TF.TF.TF.TF.TF.TF.TF.TF.TF.TF.TF.TF.TF.TF.TF.TF.TF.TF.TF.TF.TF.TF.TF.TF.TF.TF.TF.TF.TF.TF.TF.TF.TF.TF.TF.TF.TF.TF.TF.TF.TF.TF.TF.TF.TF.TF.TF.TF.TF.TF.TF.TF.TF.TF.TF.TF..TF.TF.TF.TF.TF.TF.TF.TF.TF.TF.TF.TF.TF.TF.TF.TF.TF.TF.TF.TF.TF.TF.TF.TF.TF.TF.TF.TF.TF.TF.TF.TF.TF.TF.TF.TF.TF.TF.TF.TF.TF.TF.TF.TF.TF.TF.TF.TF.TF.TF.TF.TF.TF.TF.TF.TF.TF.TF.TF.TF.TF.TF.TF.TF.TF.TF.TF.TF.TF.TF.TF.TF.."
     ]
    }
   ],
   "source": [
    "f = True\n",
    "c = False\n",
    "\n",
    "cosine_skor = list()\n",
    "cosine_qualifikasi = list()\n",
    "cosine_similarity = list()\n",
    "cosine_status = list()\n",
    "cosine_cwm = list()\n",
    "\n",
    "dice_skor = list()\n",
    "dice_qualifikasi = list()\n",
    "dice_similarity = list()\n",
    "dice_status = list()\n",
    "dice_cwm = list()\n",
    "\n",
    "jaccard_skor = list()\n",
    "jaccard_qualifikasi = list()\n",
    "jaccard_similarity = list()\n",
    "jaccard_status = list()\n",
    "jaccard_cwm = list()\n",
    "\n",
    "for ix, j in enumerate(jawaban):\n",
    "    hasil = sc.scoring_cosine(j,kuncijawaban_list,skor_list,keterangan, fitur=f, char = c)\n",
    "    cosine_skor.append(hasil[0])\n",
    "    cosine_qualifikasi.append(hasil[1])\n",
    "    cosine_similarity.append(hasil[2])\n",
    "    cosine_status.append(hasil[3])\n",
    "    cosine_cwm.append(sc.cek_mised(hasil[3]))\n",
    "\n",
    "    hasil = sc.scoring_dice(j,kuncijawaban_list,skor_list,keterangan, fitur=f, char = c)\n",
    "    dice_skor.append(hasil[0])\n",
    "    dice_qualifikasi.append(hasil[1])\n",
    "    dice_similarity.append(hasil[2])\n",
    "    dice_status.append(hasil[3])\n",
    "    dice_cwm.append(sc.cek_mised(hasil[3]))\n",
    "\n",
    "    hasil = sc.scoring_jaccard(j,kuncijawaban_list,skor_list,keterangan, fitur=f, char = c)\n",
    "    jaccard_skor.append(hasil[0])\n",
    "    jaccard_qualifikasi.append(hasil[1])\n",
    "    jaccard_similarity.append(hasil[2])\n",
    "    jaccard_status.append(hasil[3])\n",
    "    jaccard_cwm.append(sc.cek_mised(hasil[3]))\n",
    "\n",
    "    if ix %10==0 and ix != 0:\n",
    "        if ix !=0:\n",
    "            print(ix, end=\" \")\n",
    "    else:\n",
    "        print(\".\", end=\"\")\n",
    "\n",
    "dict_={\n",
    "    'cosine_skor' : cosine_skor,\n",
    "    'cosine_qualifikasi' : cosine_qualifikasi,\n",
    "    'cosine_similarity' : cosine_similarity,\n",
    "    'cosine_status' : cosine_status,\n",
    "    'cosine_cwm' : cosine_cwm,\n",
    "\n",
    "    'dice_skor' : dice_skor,\n",
    "    'dice_qualifikasi' : dice_qualifikasi,\n",
    "    'dice_similarity' : dice_similarity,\n",
    "    'dice_status' : dice_status,\n",
    "    'dice_cwm' : dice_cwm,\n",
    "\n",
    "    'jaccard_skor' : jaccard_skor,\n",
    "    'jaccard_qualifikasi' : jaccard_qualifikasi,\n",
    "    'jaccard_similarity' : jaccard_similarity,\n",
    "    'jaccard_status' : jaccard_status,\n",
    "    'jaccard_cwm' : jaccard_cwm,\n",
    "\n",
    "    'jawaban':jawaban,\n",
    "}\n",
    "#simpan hasil\n",
    "dataframe_hasil = pd.DataFrame(data=dict_)\n",
    "# dataframe_hasil.to_excel(\"hasil/hasil_scoring_\"+\".xlsx\")"
   ]
  },
  {
   "cell_type": "code",
   "execution_count": null,
   "metadata": {},
   "outputs": [],
   "source": []
  },
  {
   "cell_type": "code",
   "execution_count": 6,
   "metadata": {},
   "outputs": [
    {
     "data": {
      "text/plain": [
       "100"
      ]
     },
     "execution_count": 6,
     "metadata": {},
     "output_type": "execute_result"
    }
   ],
   "source": [
    "len(jaccard_cwm)"
   ]
  },
  {
   "cell_type": "markdown",
   "metadata": {},
   "source": [
    "# Rouge"
   ]
  },
  {
   "cell_type": "code",
   "execution_count": 21,
   "metadata": {},
   "outputs": [],
   "source": [
    "\n",
    "data_rouge = [\"cosine_cwm\",\"dice_cwm\",\"jaccard_cwm\"]\n",
    "nama = [\"Cosine\",\"Dice\",\"Jaccard\"]\n",
    "\n",
    "\n",
    "metode = list()\n",
    "precision = list()\n",
    "recall = list()\n",
    "f1_score = list()\n",
    "\n",
    "correctl = list()\n",
    "missedl = list()\n",
    "wrongl = list()\n",
    "\n",
    "for i, j in zip(data_rouge, nama):\n",
    "    dataf = dataframe_hasil[i].tolist()\n",
    "    correct = 0\n",
    "    missed  = 0\n",
    "    wrong   = 0\n",
    "    for km in dataf:\n",
    "        if km == \"correct\":\n",
    "            correct +=1\n",
    "        elif km == \"missed\":\n",
    "            missed +=1\n",
    "        elif km ==\"wrong\":\n",
    "            wrong +=1\n",
    "        else:\n",
    "            print(km)\n",
    "    \n",
    "    pres = correct/(correct+wrong)\n",
    "    precision.append(pres)\n",
    "    rec =  correct/(correct+missed)\n",
    "    recall.append(rec)\n",
    "    fm = 2*pres*(rec/(rec+pres))\n",
    "    f1_score.append(fm)\n",
    "    \n",
    "    correctl.append(correct)\n",
    "    missedl.append(missed)\n",
    "    wrongl.append(wrong)\n",
    "    \n",
    "dict1 = {\n",
    "        \"metode\":nama,\n",
    "        \"correct\":correctl,\n",
    "        \"missed\":missedl,\n",
    "        \"wrong\":wrongl,\n",
    "        }\n",
    "\n",
    "dict2 = {\n",
    "        \"metode\":nama,\n",
    "        \"precision\":precision,\n",
    "        \"recall\":recall,\n",
    "        \"f-Measure\":f1_score,\n",
    "        }\n",
    "df_cwm = pd.DataFrame.from_dict(dict1).set_index('metode')\n",
    "df_f_score = pd.DataFrame.from_dict(dict2).set_index('metode')"
   ]
  },
  {
   "cell_type": "code",
   "execution_count": 22,
   "metadata": {},
   "outputs": [
    {
     "name": "stdout",
     "output_type": "stream",
     "text": [
      "         correct  missed  wrong\n",
      "metode                         \n",
      "Cosine       100       0      0\n",
      "Dice         100       0      0\n",
      "Jaccard      100       0      0\n",
      "         precision  recall  f-Measure\n",
      "metode                               \n",
      "Cosine         1.0     1.0        1.0\n",
      "Dice           1.0     1.0        1.0\n",
      "Jaccard        1.0     1.0        1.0\n"
     ]
    }
   ],
   "source": [
    "# f = True\n",
    "# c = True\n",
    "\n",
    "print(df_cwm)\n",
    "print(df_f_score)"
   ]
  },
  {
   "cell_type": "code",
   "execution_count": 18,
   "metadata": {},
   "outputs": [
    {
     "name": "stdout",
     "output_type": "stream",
     "text": [
      "         correct  missed  wrong\n",
      "metode                         \n",
      "Cosine       100       0      0\n",
      "Dice         100       0      0\n",
      "Jaccard      100       0      0\n",
      "         precision  recall  f-Measure\n",
      "metode                               \n",
      "Cosine         1.0     1.0        1.0\n",
      "Dice           1.0     1.0        1.0\n",
      "Jaccard        1.0     1.0        1.0\n"
     ]
    }
   ],
   "source": [
    "# f = True\n",
    "# c = True\n",
    "\n",
    "print(df_cwm)\n",
    "print(df_f_score)"
   ]
  },
  {
   "cell_type": "code",
   "execution_count": 12,
   "metadata": {},
   "outputs": [
    {
     "name": "stdout",
     "output_type": "stream",
     "text": [
      "         correct  missed  wrong\n",
      "metode                         \n",
      "Cosine       100       0      0\n",
      "Dice         100       0      0\n",
      "Jaccard      100       0      0\n",
      "         precision  recall  f-Measure\n",
      "metode                               \n",
      "Cosine         1.0     1.0        1.0\n",
      "Dice           1.0     1.0        1.0\n",
      "Jaccard        1.0     1.0        1.0\n"
     ]
    }
   ],
   "source": [
    "# f = False\n",
    "# c = True\n",
    "\n",
    "print(df_cwm)\n",
    "print(df_f_score)"
   ]
  },
  {
   "cell_type": "code",
   "execution_count": null,
   "metadata": {},
   "outputs": [],
   "source": []
  },
  {
   "cell_type": "code",
   "execution_count": null,
   "metadata": {},
   "outputs": [],
   "source": []
  },
  {
   "cell_type": "code",
   "execution_count": 8,
   "metadata": {},
   "outputs": [
    {
     "name": "stdout",
     "output_type": "stream",
     "text": [
      "         correct  missed  wrong\n",
      "metode                         \n",
      "Cosine        34      56     10\n",
      "Dice          34      56     10\n",
      "Jaccard       25      48     27\n",
      "         precision    recall  f-Measure\n",
      "metode                                 \n",
      "Cosine    0.772727  0.377778   0.507463\n",
      "Dice      0.772727  0.377778   0.507463\n",
      "Jaccard   0.480769  0.342466   0.400000\n"
     ]
    }
   ],
   "source": [
    "# f = False\n",
    "# c = False\n",
    "\n",
    "print(df_cwm)\n",
    "print(df_f_score)"
   ]
  },
  {
   "cell_type": "code",
   "execution_count": null,
   "metadata": {},
   "outputs": [],
   "source": []
  },
  {
   "cell_type": "code",
   "execution_count": 6,
   "metadata": {},
   "outputs": [
    {
     "data": {
      "text/html": [
       "<div>\n",
       "<style scoped>\n",
       "    .dataframe tbody tr th:only-of-type {\n",
       "        vertical-align: middle;\n",
       "    }\n",
       "\n",
       "    .dataframe tbody tr th {\n",
       "        vertical-align: top;\n",
       "    }\n",
       "\n",
       "    .dataframe thead th {\n",
       "        text-align: right;\n",
       "    }\n",
       "</style>\n",
       "<table border=\"1\" class=\"dataframe\">\n",
       "  <thead>\n",
       "    <tr style=\"text-align: right;\">\n",
       "      <th></th>\n",
       "      <th>correct</th>\n",
       "      <th>missed</th>\n",
       "      <th>wrong</th>\n",
       "    </tr>\n",
       "    <tr>\n",
       "      <th>metode</th>\n",
       "      <th></th>\n",
       "      <th></th>\n",
       "      <th></th>\n",
       "    </tr>\n",
       "  </thead>\n",
       "  <tbody>\n",
       "    <tr>\n",
       "      <th>Cosine</th>\n",
       "      <td>61</td>\n",
       "      <td>39</td>\n",
       "      <td>0</td>\n",
       "    </tr>\n",
       "    <tr>\n",
       "      <th>Dice</th>\n",
       "      <td>61</td>\n",
       "      <td>39</td>\n",
       "      <td>0</td>\n",
       "    </tr>\n",
       "    <tr>\n",
       "      <th>Jaccard</th>\n",
       "      <td>43</td>\n",
       "      <td>56</td>\n",
       "      <td>1</td>\n",
       "    </tr>\n",
       "  </tbody>\n",
       "</table>\n",
       "</div>"
      ],
      "text/plain": [
       "         correct  missed  wrong\n",
       "metode                         \n",
       "Cosine        61      39      0\n",
       "Dice          61      39      0\n",
       "Jaccard       43      56      1"
      ]
     },
     "execution_count": 6,
     "metadata": {},
     "output_type": "execute_result"
    }
   ],
   "source": [
    "#Fitur True \n",
    "# char False\n",
    "df_cwm"
   ]
  },
  {
   "cell_type": "code",
   "execution_count": 7,
   "metadata": {},
   "outputs": [
    {
     "data": {
      "text/html": [
       "<div>\n",
       "<style scoped>\n",
       "    .dataframe tbody tr th:only-of-type {\n",
       "        vertical-align: middle;\n",
       "    }\n",
       "\n",
       "    .dataframe tbody tr th {\n",
       "        vertical-align: top;\n",
       "    }\n",
       "\n",
       "    .dataframe thead th {\n",
       "        text-align: right;\n",
       "    }\n",
       "</style>\n",
       "<table border=\"1\" class=\"dataframe\">\n",
       "  <thead>\n",
       "    <tr style=\"text-align: right;\">\n",
       "      <th></th>\n",
       "      <th>precision</th>\n",
       "      <th>recall</th>\n",
       "      <th>f-Measure</th>\n",
       "    </tr>\n",
       "    <tr>\n",
       "      <th>metode</th>\n",
       "      <th></th>\n",
       "      <th></th>\n",
       "      <th></th>\n",
       "    </tr>\n",
       "  </thead>\n",
       "  <tbody>\n",
       "    <tr>\n",
       "      <th>Cosine</th>\n",
       "      <td>1.000000</td>\n",
       "      <td>0.610000</td>\n",
       "      <td>0.757764</td>\n",
       "    </tr>\n",
       "    <tr>\n",
       "      <th>Dice</th>\n",
       "      <td>1.000000</td>\n",
       "      <td>0.610000</td>\n",
       "      <td>0.757764</td>\n",
       "    </tr>\n",
       "    <tr>\n",
       "      <th>Jaccard</th>\n",
       "      <td>0.977273</td>\n",
       "      <td>0.434343</td>\n",
       "      <td>0.601399</td>\n",
       "    </tr>\n",
       "  </tbody>\n",
       "</table>\n",
       "</div>"
      ],
      "text/plain": [
       "         precision    recall  f-Measure\n",
       "metode                                 \n",
       "Cosine    1.000000  0.610000   0.757764\n",
       "Dice      1.000000  0.610000   0.757764\n",
       "Jaccard   0.977273  0.434343   0.601399"
      ]
     },
     "execution_count": 7,
     "metadata": {},
     "output_type": "execute_result"
    }
   ],
   "source": [
    "df_f_score"
   ]
  },
  {
   "cell_type": "code",
   "execution_count": null,
   "metadata": {},
   "outputs": [],
   "source": []
  },
  {
   "cell_type": "code",
   "execution_count": null,
   "metadata": {},
   "outputs": [],
   "source": []
  },
  {
   "cell_type": "code",
   "execution_count": null,
   "metadata": {},
   "outputs": [],
   "source": []
  },
  {
   "cell_type": "code",
   "execution_count": null,
   "metadata": {},
   "outputs": [],
   "source": []
  },
  {
   "cell_type": "code",
   "execution_count": null,
   "metadata": {},
   "outputs": [],
   "source": []
  },
  {
   "cell_type": "code",
   "execution_count": null,
   "metadata": {},
   "outputs": [],
   "source": []
  }
 ],
 "metadata": {
  "kernelspec": {
   "display_name": "Python 3",
   "language": "python",
   "name": "python3"
  },
  "language_info": {
   "codemirror_mode": {
    "name": "ipython",
    "version": 3
   },
   "file_extension": ".py",
   "mimetype": "text/x-python",
   "name": "python",
   "nbconvert_exporter": "python",
   "pygments_lexer": "ipython3",
   "version": "3.7.3"
  }
 },
 "nbformat": 4,
 "nbformat_minor": 2
}
