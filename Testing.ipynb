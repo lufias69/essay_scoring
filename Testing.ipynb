{
 "cells": [
  {
   "cell_type": "code",
   "execution_count": 1,
   "metadata": {},
   "outputs": [],
   "source": [
    "from ES import scoring as sc\n",
    "import pandas as pd\n",
    "# F = False\n",
    "# T = True"
   ]
  },
  {
   "cell_type": "code",
   "execution_count": 2,
   "metadata": {},
   "outputs": [
    {
     "name": "stdout",
     "output_type": "stream",
     "text": [
      "[1.0, 'sangat mirip']\n"
     ]
    }
   ],
   "source": [
    "from ES import scoring as sc\n",
    "kunci_jawaban = [\"telepon 02173811111 website buanwisata.com\",\"02173811111 buanawiata.com\"]\n",
    "\n",
    "# jawaban = \"telepon 02173811111 kunjungi website buanawisata.com\"\n",
    "jawaban = \"telepon 02173811111 kunjungi website buanawiata.com\"\n",
    "\n",
    "print(sc.essay_cosine_similarity(kunci_jawaban, jawaban))#, fitur=T, char = F"
   ]
  },
  {
   "cell_type": "code",
   "execution_count": 3,
   "metadata": {},
   "outputs": [
    {
     "data": {
      "text/plain": [
       "100.0"
      ]
     },
     "execution_count": 3,
     "metadata": {},
     "output_type": "execute_result"
    }
   ],
   "source": [
    "hasil = sc.predict(kunci_jawaban, jawaban, metode='cosine')\n",
    "hasil[0]*100"
   ]
  },
  {
   "cell_type": "code",
   "execution_count": 8,
   "metadata": {},
   "outputs": [
    {
     "name": "stdout",
     "output_type": "stream",
     "text": [
      "cosine\n",
      " skor       : 97 \n",
      " qualifikasi: 0.994 \n",
      " similarity : sangat mirip\n",
      "\n",
      "dice\n",
      " skor       : 97 \n",
      " qualifikasi: 0.994 \n",
      " similarity : sangat mirip\n",
      "\n",
      "jaccard\n",
      " skor       : 97 \n",
      " qualifikasi: 0.988 \n",
      " similarity : sangat mirip\n"
     ]
    }
   ],
   "source": [
    "cc = T\n",
    "ff = F\n",
    "\n",
    "jawaban = \"telepon0217381 1111 sekarang juga untuk informasi lebih lanjut kunjungi website kami di untuk informasi paket dan harga\"\n",
    "file_name = \"kunci_jawaban_1\"\n",
    "dir_ = \"kunci_jawaban\"\n",
    "data = pd.read_excel(dir_+\"/\"+file_name+\".xlsx\")\n",
    "data = sc.seleksi_kunci_jawaban(data)\n",
    "kuncijawaban_list = data[\"kunci_jawaban\"]\n",
    "skor_list = data[\"skor\"]\n",
    "# keterangan = data[\"keterangan\"]\n",
    "# sc.essay_jaccard_similarity(jawaban, kuncijawaban_list, skor_list, keterangan, char=False, fitur=False)\n",
    "print(\"cosine\")\n",
    "hasil = sc.scoring_cosine(jawaban, kuncijawaban_list, skor_list, char=cc, fitur=ff)\n",
    "#[skor, ket, similarity, tr, sorted_]\n",
    "#    0     1         2    3       4\n",
    "print(\" skor       :\",hasil[0], \"\\n qualifikasi:\",hasil[1], \"\\n similarity :\",hasil[2])\n",
    "print(\"\")\n",
    "print(\"dice\")\n",
    "hasil = sc.scoring_dice(jawaban, kuncijawaban_list, skor_list, char=cc, fitur=ff)\n",
    "print(\" skor       :\",hasil[0], \"\\n qualifikasi:\",hasil[1], \"\\n similarity :\",hasil[2])\n",
    "print(\"\")\n",
    "print(\"jaccard\")\n",
    "hasil = sc.scoring_jaccard(jawaban, kuncijawaban_list, skor_list, char=cc, fitur=cc)\n",
    "print(\" skor       :\",hasil[0], \"\\n qualifikasi:\",hasil[1], \"\\n similarity :\",hasil[2])\n",
    "# hasil[4]"
   ]
  },
  {
   "cell_type": "code",
   "execution_count": null,
   "metadata": {},
   "outputs": [],
   "source": []
  },
  {
   "cell_type": "code",
   "execution_count": 6,
   "metadata": {},
   "outputs": [],
   "source": [
    "# file_name = \"kunci_jawaban_1\"\n",
    "# dir_ = \"kunci_jawaban\"\n",
    "# data = pd.read_excel(dir_+\"/\"+file_name+\".xlsx\")"
   ]
  },
  {
   "cell_type": "code",
   "execution_count": 7,
   "metadata": {},
   "outputs": [],
   "source": [
    "# len(sc.seleksi_kunci_jawaban(data)[\"kunci_jawaban\"])"
   ]
  },
  {
   "cell_type": "code",
   "execution_count": null,
   "metadata": {},
   "outputs": [],
   "source": []
  },
  {
   "cell_type": "code",
   "execution_count": 5,
   "metadata": {},
   "outputs": [
    {
     "data": {
      "text/plain": [
       "1.0"
      ]
     },
     "execution_count": 5,
     "metadata": {},
     "output_type": "execute_result"
    }
   ],
   "source": [
    "from ES.Nawa import cosine_string as cs\n",
    "cs.cosine_string(\"suka\", \"suka\", char=True, move=False)"
   ]
  },
  {
   "cell_type": "code",
   "execution_count": 7,
   "metadata": {},
   "outputs": [
    {
     "data": {
      "text/plain": [
       "1.0"
      ]
     },
     "execution_count": 7,
     "metadata": {},
     "output_type": "execute_result"
    }
   ],
   "source": [
    "from ES.Nawa import cosine_string as cs\n",
    "cs.cosine_string(\"suka\", \"suka\", char=True, move=True)"
   ]
  },
  {
   "cell_type": "code",
   "execution_count": 3,
   "metadata": {},
   "outputs": [
    {
     "data": {
      "text/plain": [
       "'saya saya makanan'"
      ]
     },
     "execution_count": 3,
     "metadata": {},
     "output_type": "execute_result"
    }
   ],
   "source": [
    "from ES.Nawa import normalisasi as nm\n",
    "nm.cek_typo(\"saya belajar makanan\", \"sayaa, sayaa 'makana'\")"
   ]
  },
  {
   "cell_type": "code",
   "execution_count": 9,
   "metadata": {
    "scrolled": true
   },
   "outputs": [
    {
     "ename": "AttributeError",
     "evalue": "'list' object has no attribute 'lower'",
     "output_type": "error",
     "traceback": [
      "\u001b[1;31m---------------------------------------------------------------------------\u001b[0m",
      "\u001b[1;31mAttributeError\u001b[0m                            Traceback (most recent call last)",
      "\u001b[1;32m<ipython-input-9-8e04fbb50979>\u001b[0m in \u001b[0;36m<module>\u001b[1;34m\u001b[0m\n\u001b[0;32m      3\u001b[0m \u001b[1;32mfrom\u001b[0m \u001b[0mpyjarowinkler\u001b[0m \u001b[1;32mimport\u001b[0m \u001b[0mdistance\u001b[0m\u001b[1;33m\u001b[0m\u001b[1;33m\u001b[0m\u001b[0m\n\u001b[0;32m      4\u001b[0m \u001b[1;31m# Scaling is 0.1 by default\u001b[0m\u001b[1;33m\u001b[0m\u001b[1;33m\u001b[0m\u001b[1;33m\u001b[0m\u001b[0m\n\u001b[1;32m----> 5\u001b[1;33m \u001b[0mprint\u001b[0m \u001b[1;33m(\u001b[0m\u001b[0mdistance\u001b[0m\u001b[1;33m.\u001b[0m\u001b[0mget_jaro_distance\u001b[0m\u001b[1;33m(\u001b[0m\u001b[0ma\u001b[0m\u001b[1;33m,\u001b[0m \u001b[0mb\u001b[0m\u001b[1;33m,\u001b[0m \u001b[0mwinkler\u001b[0m\u001b[1;33m=\u001b[0m\u001b[1;32mTrue\u001b[0m\u001b[1;33m)\u001b[0m\u001b[1;33m)\u001b[0m\u001b[1;33m\u001b[0m\u001b[1;33m\u001b[0m\u001b[0m\n\u001b[0m",
      "\u001b[1;32m~\\Anaconda3\\lib\\site-packages\\pyjarowinkler\\distance.py\u001b[0m in \u001b[0;36mget_jaro_distance\u001b[1;34m(first, second, winkler, winkler_ajustment, scaling)\u001b[0m\n\u001b[0;32m     30\u001b[0m             second.__class__.__name__))\n\u001b[0;32m     31\u001b[0m \u001b[1;33m\u001b[0m\u001b[0m\n\u001b[1;32m---> 32\u001b[1;33m     \u001b[0mjaro\u001b[0m \u001b[1;33m=\u001b[0m \u001b[0m_score\u001b[0m\u001b[1;33m(\u001b[0m\u001b[0mfirst\u001b[0m\u001b[1;33m,\u001b[0m \u001b[0msecond\u001b[0m\u001b[1;33m)\u001b[0m\u001b[1;33m\u001b[0m\u001b[1;33m\u001b[0m\u001b[0m\n\u001b[0m\u001b[0;32m     33\u001b[0m     \u001b[0mcl\u001b[0m \u001b[1;33m=\u001b[0m \u001b[0mmin\u001b[0m\u001b[1;33m(\u001b[0m\u001b[0mlen\u001b[0m\u001b[1;33m(\u001b[0m\u001b[0m_get_prefix\u001b[0m\u001b[1;33m(\u001b[0m\u001b[0mfirst\u001b[0m\u001b[1;33m,\u001b[0m \u001b[0msecond\u001b[0m\u001b[1;33m)\u001b[0m\u001b[1;33m)\u001b[0m\u001b[1;33m,\u001b[0m \u001b[1;36m4\u001b[0m\u001b[1;33m)\u001b[0m\u001b[1;33m\u001b[0m\u001b[1;33m\u001b[0m\u001b[0m\n\u001b[0;32m     34\u001b[0m \u001b[1;33m\u001b[0m\u001b[0m\n",
      "\u001b[1;32m~\\Anaconda3\\lib\\site-packages\\pyjarowinkler\\distance.py\u001b[0m in \u001b[0;36m_score\u001b[1;34m(first, second)\u001b[0m\n\u001b[0;32m     40\u001b[0m \u001b[1;33m\u001b[0m\u001b[0m\n\u001b[0;32m     41\u001b[0m \u001b[1;32mdef\u001b[0m \u001b[0m_score\u001b[0m\u001b[1;33m(\u001b[0m\u001b[0mfirst\u001b[0m\u001b[1;33m,\u001b[0m \u001b[0msecond\u001b[0m\u001b[1;33m)\u001b[0m\u001b[1;33m:\u001b[0m\u001b[1;33m\u001b[0m\u001b[1;33m\u001b[0m\u001b[0m\n\u001b[1;32m---> 42\u001b[1;33m     \u001b[0mshorter\u001b[0m\u001b[1;33m,\u001b[0m \u001b[0mlonger\u001b[0m \u001b[1;33m=\u001b[0m \u001b[0mfirst\u001b[0m\u001b[1;33m.\u001b[0m\u001b[0mlower\u001b[0m\u001b[1;33m(\u001b[0m\u001b[1;33m)\u001b[0m\u001b[1;33m,\u001b[0m \u001b[0msecond\u001b[0m\u001b[1;33m.\u001b[0m\u001b[0mlower\u001b[0m\u001b[1;33m(\u001b[0m\u001b[1;33m)\u001b[0m\u001b[1;33m\u001b[0m\u001b[1;33m\u001b[0m\u001b[0m\n\u001b[0m\u001b[0;32m     43\u001b[0m \u001b[1;33m\u001b[0m\u001b[0m\n\u001b[0;32m     44\u001b[0m     \u001b[1;32mif\u001b[0m \u001b[0mlen\u001b[0m\u001b[1;33m(\u001b[0m\u001b[0mfirst\u001b[0m\u001b[1;33m)\u001b[0m \u001b[1;33m>\u001b[0m \u001b[0mlen\u001b[0m\u001b[1;33m(\u001b[0m\u001b[0msecond\u001b[0m\u001b[1;33m)\u001b[0m\u001b[1;33m:\u001b[0m\u001b[1;33m\u001b[0m\u001b[1;33m\u001b[0m\u001b[0m\n",
      "\u001b[1;31mAttributeError\u001b[0m: 'list' object has no attribute 'lower'"
     ]
    }
   ],
   "source": [
    "a= ['saya', 'suka']\n",
    "b= [ 'suka','saya']\n",
    "from pyjarowinkler import distance\n",
    "# Scaling is 0.1 by default\n",
    "print (distance.get_jaro_distance(a, b, winkler=True))"
   ]
  },
  {
   "cell_type": "code",
   "execution_count": 14,
   "metadata": {},
   "outputs": [
    {
     "name": "stdout",
     "output_type": "stream",
     "text": [
      "0.81\n"
     ]
    }
   ],
   "source": [
    "a= 'saya suka makan'\n",
    "b= 'makan suka saya'\n",
    "import distance\n",
    "# Scaling is 0.1 by default\n",
    "print (distance.get_jaro_distance(a, b, winkler=True))"
   ]
  },
  {
   "cell_type": "code",
   "execution_count": 23,
   "metadata": {},
   "outputs": [],
   "source": []
  },
  {
   "cell_type": "code",
   "execution_count": 49,
   "metadata": {},
   "outputs": [
    {
     "name": "stdout",
     "output_type": "stream",
     "text": [
      "['s', 'r', 'k', 'a', 'u']\n",
      "[3, 5, 1, 1.6366341767699428, 4]\n",
      "[3, 1, 5, 4, 2]\n"
     ]
    }
   ],
   "source": [
    "import math\n",
    "\n",
    "def multiplyList(myList) : \n",
    "      \n",
    "    # Multiply elements one by one \n",
    "    result = 1\n",
    "    for x in myList: \n",
    "         result = result * x  \n",
    "    return result  \n",
    "def idx (i, ax):\n",
    "    # i = \"a\"\n",
    "    # a = \"kasura\"\n",
    "    index = list()\n",
    "    for ix, j in enumerate(ax):\n",
    "        if j == i:\n",
    "            index.append(ix+1)\n",
    "    sum_ = sum(index)\n",
    "    mul = multiplyList(index)\n",
    "    # sum_/math.sqrt(math.log(mul,2))\n",
    "    return sum_/math.sqrt(mul)\n",
    "    \n",
    "\n",
    "def perpindahan(a,b)\n",
    "    # a = \"kasuraa\"\n",
    "    # b = \"rusak\"\n",
    "\n",
    "    ab = list(set(a+b))\n",
    "    ls_a = list()\n",
    "    ls_b = list()\n",
    "    for i in ab:\n",
    "    #     if a.count(i) > 1:\n",
    "    #         index = list()\n",
    "    #         for j in a\n",
    "\n",
    "    #     print(i,a.index(i)+1,\" \",b.index(i)+1)\n",
    "        try:\n",
    "            if a.count(i) > 1:\n",
    "                ls_a.append(idx (i, a))\n",
    "            else:\n",
    "                ls_a.append(a.index(i)+1)\n",
    "        except:\n",
    "            ls_a.append(0)\n",
    "\n",
    "        try:\n",
    "            if b.count(i) > 1:\n",
    "                ls_b.append(idx (i, b))\n",
    "            else:\n",
    "                ls_b.append(b.index(i)+1)\n",
    "        except:\n",
    "            ls_b.append(0)\n",
    "        \n",
    "print(ab)        \n",
    "print(ls_a)\n",
    "print(ls_b)"
   ]
  },
  {
   "cell_type": "code",
   "execution_count": 6,
   "metadata": {},
   "outputs": [
    {
     "name": "stdout",
     "output_type": "stream",
     "text": [
      "[0.6030226891555273, 0.6030226891555273, 2.1105794120443453]\n",
      "[1.0, 0.0, 1.0]\n"
     ]
    }
   ],
   "source": [
    "import math\n",
    "a = [2,0,2]\n",
    "b = [2,2,7]\n",
    "def rename (a, b):\n",
    "    ls = list()\n",
    "    for i,j in zip(a,b):\n",
    "        ls.append()\n",
    "    return ls\n",
    "print(rename (b))\n",
    "print(rename (a))"
   ]
  },
  {
   "cell_type": "code",
   "execution_count": null,
   "metadata": {},
   "outputs": [],
   "source": []
  },
  {
   "cell_type": "code",
   "execution_count": 19,
   "metadata": {},
   "outputs": [
    {
     "ename": "ModuleNotFoundError",
     "evalue": "No module named 'levenshtein'",
     "output_type": "error",
     "traceback": [
      "\u001b[1;31m---------------------------------------------------------------------------\u001b[0m",
      "\u001b[1;31mModuleNotFoundError\u001b[0m                       Traceback (most recent call last)",
      "\u001b[1;32m<ipython-input-19-b4bed4f77772>\u001b[0m in \u001b[0;36m<module>\u001b[1;34m\u001b[0m\n\u001b[1;32m----> 1\u001b[1;33m \u001b[1;32mfrom\u001b[0m \u001b[0mlevenshtein\u001b[0m \u001b[1;32mimport\u001b[0m \u001b[0mLevenshtein\u001b[0m\u001b[1;33m\u001b[0m\u001b[1;33m\u001b[0m\u001b[0m\n\u001b[0m\u001b[0;32m      2\u001b[0m \u001b[1;33m\u001b[0m\u001b[0m\n\u001b[0;32m      3\u001b[0m \u001b[0mlevenshtein\u001b[0m \u001b[1;33m=\u001b[0m \u001b[0mLevenshtein\u001b[0m\u001b[1;33m(\u001b[0m\u001b[1;33m)\u001b[0m\u001b[1;33m\u001b[0m\u001b[1;33m\u001b[0m\u001b[0m\n\u001b[0;32m      4\u001b[0m \u001b[0mprint\u001b[0m\u001b[1;33m(\u001b[0m\u001b[0mlevenshtein\u001b[0m\u001b[1;33m.\u001b[0m\u001b[0mdistance\u001b[0m\u001b[1;33m(\u001b[0m\u001b[1;34m'My string'\u001b[0m\u001b[1;33m,\u001b[0m \u001b[1;34m'My $string'\u001b[0m\u001b[1;33m)\u001b[0m\u001b[1;33m)\u001b[0m\u001b[1;33m\u001b[0m\u001b[1;33m\u001b[0m\u001b[0m\n\u001b[0;32m      5\u001b[0m \u001b[0mprint\u001b[0m\u001b[1;33m(\u001b[0m\u001b[0mlevenshtein\u001b[0m\u001b[1;33m.\u001b[0m\u001b[0mdistance\u001b[0m\u001b[1;33m(\u001b[0m\u001b[1;34m'My string'\u001b[0m\u001b[1;33m,\u001b[0m \u001b[1;34m'My $string'\u001b[0m\u001b[1;33m)\u001b[0m\u001b[1;33m)\u001b[0m\u001b[1;33m\u001b[0m\u001b[1;33m\u001b[0m\u001b[0m\n",
      "\u001b[1;31mModuleNotFoundError\u001b[0m: No module named 'levenshtein'"
     ]
    }
   ],
   "source": [
    "from similarity.levenshtein import Levenshtein\n",
    "\n",
    "levenshtein = Levenshtein()\n",
    "print(levenshtein.distance('My string', 'My $string'))\n",
    "print(levenshtein.distance('My string', 'My $string'))\n",
    "print(levenshtein.distance('My string', 'My $string'))"
   ]
  }
 ],
 "metadata": {
  "kernelspec": {
   "display_name": "Python 3",
   "language": "python",
   "name": "python3"
  },
  "language_info": {
   "codemirror_mode": {
    "name": "ipython",
    "version": 3
   },
   "file_extension": ".py",
   "mimetype": "text/x-python",
   "name": "python",
   "nbconvert_exporter": "python",
   "pygments_lexer": "ipython3",
   "version": "3.7.3"
  }
 },
 "nbformat": 4,
 "nbformat_minor": 2
}
